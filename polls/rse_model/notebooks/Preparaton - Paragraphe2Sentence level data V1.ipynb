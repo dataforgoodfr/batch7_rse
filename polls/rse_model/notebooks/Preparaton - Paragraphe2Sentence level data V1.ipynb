{
 "cells": [
  {
   "cell_type": "markdown",
   "metadata": {},
   "source": [
    "Here is the base code for takings paragraphes of dpef and splitting them into sentences, then keep only long sentences.\n",
    "\n",
    "MIN_NB_OF_TOKENS=8 seems to do the trick. \n",
    "\n",
    "Improvements:\n",
    "- exception to not split on \"etc.\" does not work !\n",
    "- Remove last filter and look at what has <8 words. Mostly fragments, mainly titles, etc. but may shows errors in parsing.\n",
    "- Questions were kept here, maybe to exclude if appear in top sentences. but seem not frequent.\n",
    "- main mistakes are of shape \"['13 21 14 7 25 24 17 15 4 22 23']\" --> add criteria to require actual words ?"
   ]
  },
  {
   "cell_type": "code",
   "execution_count": 1,
   "metadata": {
    "ExecuteTime": {
     "end_time": "2020-04-10T14:30:06.102075Z",
     "start_time": "2020-04-10T14:29:59.666761Z"
    }
   },
   "outputs": [],
   "source": [
    "import pandas as pd\n",
    "# text\n",
    "from spacy.lang.fr import French\n",
    "from spacy.cli.download import download\n",
    "import spacy\n",
    "# download('fr_core_news_sm')"
   ]
  },
  {
   "cell_type": "code",
   "execution_count": 10,
   "metadata": {
    "ExecuteTime": {
     "end_time": "2020-04-10T14:31:21.687533Z",
     "start_time": "2020-04-10T14:31:21.623534Z"
    }
   },
   "outputs": [],
   "source": [
    "input_filename = \"../../data/processed/DPEFs/dpef_paragraphs.csv\"\n",
    "output_filename = \"../../data/processed/DPEFs/dpef_paragraphs_sentences.csv\"\n",
    "output_filename2 = \"../../data/processed/DPEFs/dpef_paragraphs_sentences_long_format.csv\"\n",
    "df = pd.read_csv(input_filename, sep=\";\")\n",
    "df = df[df.paragraph.notna()] # nan created while saving/ removing header -> to correct\n",
    "df = df.sample(5000)"
   ]
  },
  {
   "cell_type": "code",
   "execution_count": 11,
   "metadata": {
    "ExecuteTime": {
     "end_time": "2020-04-10T14:31:21.867219Z",
     "start_time": "2020-04-10T14:31:21.856253Z"
    }
   },
   "outputs": [
    {
     "data": {
      "text/html": [
       "<div>\n",
       "<style scoped>\n",
       "    .dataframe tbody tr th:only-of-type {\n",
       "        vertical-align: middle;\n",
       "    }\n",
       "\n",
       "    .dataframe tbody tr th {\n",
       "        vertical-align: top;\n",
       "    }\n",
       "\n",
       "    .dataframe thead th {\n",
       "        text-align: right;\n",
       "    }\n",
       "</style>\n",
       "<table border=\"1\" class=\"dataframe\">\n",
       "  <thead>\n",
       "    <tr style=\"text-align: right;\">\n",
       "      <th></th>\n",
       "      <th>project_denomination</th>\n",
       "      <th>paragraph_id</th>\n",
       "      <th>page_nb</th>\n",
       "      <th>paragraph</th>\n",
       "      <th>x_group</th>\n",
       "      <th>y_min_paragraph</th>\n",
       "      <th>y_max_paragraph</th>\n",
       "    </tr>\n",
       "  </thead>\n",
       "  <tbody>\n",
       "    <tr>\n",
       "      <th>3403</th>\n",
       "      <td>vinci</td>\n",
       "      <td>112</td>\n",
       "      <td>47</td>\n",
       "      <td>+50 %</td>\n",
       "      <td>3</td>\n",
       "      <td>676</td>\n",
       "      <td>706</td>\n",
       "    </tr>\n",
       "    <tr>\n",
       "      <th>8660</th>\n",
       "      <td>auchanholding</td>\n",
       "      <td>859</td>\n",
       "      <td>146</td>\n",
       "      <td>aux collaborateurs de signaler des faits de co...</td>\n",
       "      <td>0</td>\n",
       "      <td>276</td>\n",
       "      <td>435</td>\n",
       "    </tr>\n",
       "    <tr>\n",
       "      <th>2629</th>\n",
       "      <td>eiffage</td>\n",
       "      <td>974</td>\n",
       "      <td>176</td>\n",
       "      <td>centres de reconversion professionnelle ;</td>\n",
       "      <td>2</td>\n",
       "      <td>573</td>\n",
       "      <td>582</td>\n",
       "    </tr>\n",
       "    <tr>\n",
       "      <th>1752</th>\n",
       "      <td>eiffage</td>\n",
       "      <td>97</td>\n",
       "      <td>129</td>\n",
       "      <td>Les contrats à l’exportation réalisés dans d’a...</td>\n",
       "      <td>2</td>\n",
       "      <td>597</td>\n",
       "      <td>703</td>\n",
       "    </tr>\n",
       "    <tr>\n",
       "      <th>4611</th>\n",
       "      <td>edf</td>\n",
       "      <td>633</td>\n",
       "      <td>171</td>\n",
       "      <td>▪ un nouveau projet en Champagne-Ardennes, « S...</td>\n",
       "      <td>2</td>\n",
       "      <td>137</td>\n",
       "      <td>149</td>\n",
       "    </tr>\n",
       "  </tbody>\n",
       "</table>\n",
       "</div>"
      ],
      "text/plain": [
       "     project_denomination  paragraph_id  page_nb  \\\n",
       "3403                vinci           112       47   \n",
       "8660        auchanholding           859      146   \n",
       "2629              eiffage           974      176   \n",
       "1752              eiffage            97      129   \n",
       "4611                  edf           633      171   \n",
       "\n",
       "                                              paragraph  x_group  \\\n",
       "3403                                              +50 %        3   \n",
       "8660  aux collaborateurs de signaler des faits de co...        0   \n",
       "2629          centres de reconversion professionnelle ;        2   \n",
       "1752  Les contrats à l’exportation réalisés dans d’a...        2   \n",
       "4611  ▪ un nouveau projet en Champagne-Ardennes, « S...        2   \n",
       "\n",
       "      y_min_paragraph  y_max_paragraph  \n",
       "3403              676              706  \n",
       "8660              276              435  \n",
       "2629              573              582  \n",
       "1752              597              703  \n",
       "4611              137              149  "
      ]
     },
     "execution_count": 11,
     "metadata": {},
     "output_type": "execute_result"
    }
   ],
   "source": [
    "df.head()"
   ]
  },
  {
   "cell_type": "code",
   "execution_count": 6,
   "metadata": {
    "ExecuteTime": {
     "end_time": "2020-04-10T14:30:37.203790Z",
     "start_time": "2020-04-10T14:30:35.112303Z"
    }
   },
   "outputs": [
    {
     "name": "stdout",
     "output_type": "stream",
     "text": [
      "(5000, 8)\n",
      "(2473, 8)\n"
     ]
    }
   ],
   "source": [
    "# params\n",
    "MIN_NB_OF_TOKENS = 8\n",
    "\n",
    "# custom parser to split sentences while ignoring title section like cf. and splitting on \"etc.\"\n",
    "nlp = French()\n",
    "\n",
    "def custom_sentence_boundaries(doc):\n",
    "    for i, token in enumerate(doc[2:]):\n",
    "        if exception_to_split(token):\n",
    "            token.is_sent_start = False\n",
    "        if exception_to_not_split(token):\n",
    "            token.is_sent_start = True\n",
    "    return doc\n",
    "\n",
    "def exception_to_split(token):\n",
    "    if 'cf' in token.nbor(-2).text and token.nbor(-1).text == \".\":\n",
    "        return True\n",
    "    return False\n",
    "\n",
    "def exception_to_not_split(token):\n",
    "    if 'etc' in token.nbor(-2).text and token.nbor(-1).text == \".\":\n",
    "        return True\n",
    "    return False\n",
    "nlp.add_pipe(nlp.create_pipe('sentencizer')) # to keep default sentencizer as\n",
    "nlp.add_pipe(custom_sentence_boundaries) # add exception and remove exceptions\n",
    "# split, keep only the text and forget the nlp tagging for now\n",
    "df_sent = df[\"paragraph\"].apply(lambda x: [sent.text for sent in nlp(x).sents if len(sent)>MIN_NB_OF_TOKENS])\n",
    "# save\n",
    "df[\"paragraph_sentences\"] = df_sent.values\n",
    "print(df.shape)\n",
    "df = df[df[\"paragraph_sentences\"].apply(lambda x : len(x)>0)]\n",
    "print(df.shape)\n",
    "df.to_csv(output_filename, sep=\";\")"
   ]
  },
  {
   "cell_type": "code",
   "execution_count": 146,
   "metadata": {
    "ExecuteTime": {
     "end_time": "2020-04-06T16:51:32.862210Z",
     "start_time": "2020-04-06T16:51:30.875331Z"
    }
   },
   "outputs": [],
   "source": [
    "# reshaping following https://stackoverflow.com/questions/53860398/pandas-dataframe-how-do-i-split-one-row-into-multiple-rows-by-multi-value-colum/53860543\n",
    "# convert list of pd.Series then stack it\n",
    "df2 = (df\n",
    " .set_index(df.columns[:-1].values.tolist())['paragraph_sentences'] # all except last colname as index\n",
    " .apply(pd.Series)\n",
    " .stack()\n",
    " .reset_index()\n",
    " .drop('level_{}'.format(len(df.columns)-1), axis=1)\n",
    " .rename(columns={0:'sentence'}))\n",
    "df2.to_csv(output_filename2, sep=\";\")"
   ]
  },
  {
   "cell_type": "code",
   "execution_count": 9,
   "metadata": {
    "ExecuteTime": {
     "end_time": "2020-04-10T14:31:06.934186Z",
     "start_time": "2020-04-10T14:31:06.928212Z"
    }
   },
   "outputs": [
    {
     "data": {
      "text/plain": [
       "4423     logements occupés par des clients particuliers...\n",
       "12149    des associations telles que la Croix Rouge, Em...\n",
       "13358                      D A R E 2 0 1 8 À N E W Y O R K\n",
       "10938    Le pourcentage de salariés déclarés en situati...\n",
       "300      Afrique, Inde, Moyen Amérique Orient Centrale ...\n",
       "                               ...                        \n",
       "2254     Un panel large d’actions de communication pour...\n",
       "11664    liées au transport des collaborateurs et au tr...\n",
       "1192     la démarche Ecosite utilisée par Bouygues Cons...\n",
       "12091    3.5.1.3.6. Agir pour la santé, la sécurité et ...\n",
       "9780     Les autres pays du Groupe ont également dévelo...\n",
       "Name: paragraph, Length: 2473, dtype: object"
      ]
     },
     "execution_count": 9,
     "metadata": {},
     "output_type": "execute_result"
    }
   ],
   "source": [
    "df.paragraph"
   ]
  }
 ],
 "metadata": {
  "kernelspec": {
   "display_name": "Python 3",
   "language": "python",
   "name": "python3"
  },
  "language_info": {
   "codemirror_mode": {
    "name": "ipython",
    "version": 3
   },
   "file_extension": ".py",
   "mimetype": "text/x-python",
   "name": "python",
   "nbconvert_exporter": "python",
   "pygments_lexer": "ipython3",
   "version": "3.7.5"
  }
 },
 "nbformat": 4,
 "nbformat_minor": 2
}
