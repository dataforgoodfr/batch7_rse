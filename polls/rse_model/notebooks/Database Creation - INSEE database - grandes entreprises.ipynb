{
 "cells": [
  {
   "cell_type": "code",
   "execution_count": 1,
   "metadata": {
    "ExecuteTime": {
     "end_time": "2020-04-04T13:49:46.585446Z",
     "start_time": "2020-04-04T13:49:43.362381Z"
    }
   },
   "outputs": [],
   "source": [
    "import pandas as pd\n",
    "import numpy as np\n",
    "from tqdm import tqdm\n",
    "from tqdm.notebook import tqdm # to avoid duplicated prints"
   ]
  },
  {
   "cell_type": "markdown",
   "metadata": {},
   "source": [
    "#### Inputs:\n",
    "- Sirene : Fichier StockEtablissementHistorique du 01 mars 2020 [(URL)](https://www.data.gouv.fr/fr/datasets/r/14a5d3e0-b7cf-4aa6-b5fe-c64854727388)\n",
    "- Documentation des variables [(URL)](https://static.data.gouv.fr/resources/base-sirene-des-entreprises-et-de-leurs-etablissements-siren-siret/20191126-150732/description-fichier-stocketablissement.pdf)\n",
    "\n",
    "Seules les données courantes sont disponible. Les données historisées de l'INSEE ne proposent pas la tranche d'effectif. De plus, une données d'effectif n'est pas renseignée quand elle est vieille d'au moins trois ans. On s'intéresse aux entreprises ayant au moins un effectif renseigné à une date postérieure à 2017, et on fait l'hypothèse que les entreprises de plus de 500 employés aujourd'hui (2019 et 2020) en avaient déjà plus de 500 en 2018. Et que les entreprises de plus de 500 employés aujourd'hui n'ayant pas renseignée leurs effectifs sont une minorité.\n",
    "\n",
    "#### Outputs:\n",
    "\n",
    "- Siren des entreprises de plus de >= 500 employés (en 2017) dans la base INSEE. "
   ]
  },
  {
   "cell_type": "code",
   "execution_count": 13,
   "metadata": {
    "ExecuteTime": {
     "end_time": "2020-04-04T13:56:50.734438Z",
     "start_time": "2020-04-04T13:55:55.055678Z"
    },
    "scrolled": true
   },
   "outputs": [
    {
     "data": {
      "application/vnd.jupyter.widget-view+json": {
       "model_id": "2ab58cf2a393464390c26de0c7d36c3d",
       "version_major": 2,
       "version_minor": 0
      },
      "text/plain": [
       "HBox(children=(FloatProgress(value=1.0, bar_style='info', max=1.0), HTML(value='')))"
      ]
     },
     "metadata": {},
     "output_type": "display_data"
    },
    {
     "name": "stdout",
     "output_type": "stream",
     "text": [
      "Activity could not be filtered - this happens for last ~10 chunks of the data...\n",
      "Activity could not be filtered - this happens for last ~10 chunks of the data...\n",
      "Activity could not be filtered - this happens for last ~10 chunks of the data...\n",
      "Activity could not be filtered - this happens for last ~10 chunks of the data...\n",
      "Activity could not be filtered - this happens for last ~10 chunks of the data...\n",
      "Activity could not be filtered - this happens for last ~10 chunks of the data...\n",
      "Activity could not be filtered - this happens for last ~10 chunks of the data...\n",
      "Activity could not be filtered - this happens for last ~10 chunks of the data...\n",
      "Activity could not be filtered - this happens for last ~10 chunks of the data...\n",
      "Activity could not be filtered - this happens for last ~10 chunks of the data...\n",
      "Activity could not be filtered - this happens for last ~10 chunks of the data...\n",
      "\n"
     ]
    }
   ],
   "source": [
    "# filters and mapping\n",
    "def above_date(annee, min_annee=2017):\n",
    "    try:\n",
    "        return annee>=min_annee\n",
    "    except:\n",
    "        return False\n",
    "def above_500_employees(tranche):\n",
    "    if int(tranche)>=40:\n",
    "        return True\n",
    "    else:\n",
    "        return False\n",
    "\n",
    "def not_an_administration(naf_code):\n",
    "    # Exclude section O = public administration and P = Teaching of French NAF\n",
    "    # https://www.insee.fr/fr/metadonnees/cpfr21/section/O?champRecherche=false\n",
    "    # many other public administration will still be included\n",
    "    try:\n",
    "        resp = not (naf_code.startswith(\"84\") or naf_code.startswith(\"85\"))\n",
    "        return resp\n",
    "    except:\n",
    "        return True\n",
    "    \n",
    "tranches = {41 : \"500 à 999 salariés\",\n",
    "            42 : \"1 000 à 1 999 salariés\",\n",
    "            51 : \"2 000 à 4 999 salariés\",\n",
    "            52 : \"5 000 à 9 999 salariés\",\n",
    "            53 : \"10 000 salariés et plus\"}\n",
    "\n",
    "# read insee database by chunk because it is large\n",
    "chunk_reader = pd.read_csv(\"../../data/input/Entreprises/INSEE/StockEtablissement_utf8.csv\",\n",
    "                 usecols=[\"siren\",\n",
    "                          \"denominationUsuelleEtablissement\",\n",
    "                          \"activitePrincipaleEtablissement\",\n",
    "                          \"anneeEffectifsEtablissement\",\n",
    "                          \"trancheEffectifsEtablissement\"],\n",
    "                 chunksize=100001,\n",
    "               na_values=\"NN\",\n",
    "                dtype= {\"siren\": str,\n",
    "                        \"activitePrincipaleEtablissement\":str,\n",
    "                        \"denominationUsuelleEtablissement\":str,\n",
    "                         \"anneeEffectifsEtablissement\": np.float64,\n",
    "                         \"trancheEffectifsEtablissement\": np.float64})\n",
    "big_companies = []\n",
    "for df in tqdm(chunk_reader): # 297 expected\n",
    "    df = df[df[\"anneeEffectifsEtablissement\"].apply(above_date)]\n",
    "    df = df[df[\"trancheEffectifsEtablissement\"].apply(above_500_employees)]\n",
    "    try:\n",
    "        df = df[df[\"activitePrincipaleEtablissement\"].apply(not_an_administration)]\n",
    "    except:\n",
    "        print(\"Activity could not be filtered - this happens for last ~10 chunks of the data...\")\n",
    "    big_companies.append(df)\n",
    "\n",
    "# group the data chunks\n",
    "df = pd.concat(big_companies,axis=0, ignore_index=True)\n",
    "df[\"denominationUsuelleEtablissement\"] = df[\"denominationUsuelleEtablissement\"].fillna(\"\")\n",
    "df = df.groupby(\"siren\").agg({\"denominationUsuelleEtablissement\": max, \"trancheEffectifsEtablissement\":max, \"anneeEffectifsEtablissement\":max})\n",
    "df = df.reset_index()\n",
    "df[\"trancheEffectifsEtablissement_texte\"] = df[\"trancheEffectifsEtablissement\"].replace(tranches)\n",
    "df = df[[\"siren\",\n",
    "         \"denominationUsuelleEtablissement\",\n",
    "         \"anneeEffectifsEtablissement\",\n",
    "         \"trancheEffectifsEtablissement_texte\",\n",
    "         \"trancheEffectifsEtablissement\"]]\n",
    "# save (default encoding is utf-8)\n",
    "df.to_csv(\"../../data/processed/Entreprises/insee_entreprises_effectifs_sup_500_post_2017.csv\", \n",
    "          sep=\";\", \n",
    "          index=False)"
   ]
  }
 ],
 "metadata": {
  "kernelspec": {
   "display_name": "Python 3",
   "language": "python",
   "name": "python3"
  },
  "language_info": {
   "codemirror_mode": {
    "name": "ipython",
    "version": 3
   },
   "file_extension": ".py",
   "mimetype": "text/x-python",
   "name": "python",
   "nbconvert_exporter": "python",
   "pygments_lexer": "ipython3",
   "version": "3.7.5"
  }
 },
 "nbformat": 4,
 "nbformat_minor": 2
}
