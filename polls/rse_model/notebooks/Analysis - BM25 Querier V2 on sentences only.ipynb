{
 "cells": [
  {
   "cell_type": "markdown",
   "metadata": {},
   "source": [
    "# Deuxième essai BM25 pour requêter les DPEFs et chercher des sujets spécifiques.\n",
    "\n",
    "- Avec bag of words, courts fragemnts privilégiés\n",
    "- embeddings vraiment snécéssaire égalements\n",
    "\n",
    "On peut voir que certains sujets concernent certaines entreprises."
   ]
  },
  {
   "cell_type": "code",
   "execution_count": 44,
   "metadata": {
    "ExecuteTime": {
     "end_time": "2020-04-06T16:51:35.199094Z",
     "start_time": "2020-04-06T16:51:35.166183Z"
    }
   },
   "outputs": [],
   "source": [
    "# ! pip install rank_bm25 \n",
    "import pandas as pd\n",
    "import numpy as np\n",
    "from rank_bm25 import BM25Okapi\n",
    "pd.options.display.max_colwidth=160\n",
    "\n",
    "# text\n",
    "from spacy.lang.fr import French\n",
    "from spacy.cli.download import download\n",
    "import spacy\n",
    "# download('fr_core_news_sm')\n",
    "nlp = French()\n",
    "def tokenize(input_str):\n",
    "    return [token.text for token in nlp(input_str)]"
   ]
  },
  {
   "cell_type": "code",
   "execution_count": 45,
   "metadata": {
    "ExecuteTime": {
     "end_time": "2020-04-06T16:51:41.536311Z",
     "start_time": "2020-04-06T16:51:35.385794Z"
    }
   },
   "outputs": [
    {
     "name": "stdout",
     "output_type": "stream",
     "text": [
      "(18933, 12)\n",
      "(18933, 12)\n"
     ]
    }
   ],
   "source": [
    "dpef_entreprises = \"../../data/processed/DPEFs/dpef_paragraphs_sentences_long_format.csv\"\n",
    "df = pd.read_csv(dpef_entreprises, sep=\";\")\n",
    "print(df.shape)\n",
    "df = df[df.paragraph.notna()]\n",
    "print(df.shape)\n",
    "df.head()\n",
    "df[\"sentence_\"] = df[\"sentence\"].apply(tokenize)\n",
    "df= df.reset_index()\n",
    "\n",
    "bm25_index = BM25Okapi(df[\"sentence_\"].values.tolist())\n",
    "\n",
    "def search(search_string, num_results=10):\n",
    "    search_tokens = tokenize(search_string)\n",
    "    scores = bm25_index.get_scores(search_tokens)\n",
    "    top_indexes = np.argsort(scores)[::-1][:num_results]\n",
    "    top_scores = scores[top_indexes]\n",
    "    return top_indexes, top_scores"
   ]
  },
  {
   "cell_type": "code",
   "execution_count": 46,
   "metadata": {
    "ExecuteTime": {
     "end_time": "2020-04-06T16:51:41.543220Z",
     "start_time": "2020-04-06T16:51:41.538233Z"
    }
   },
   "outputs": [
    {
     "data": {
      "text/plain": [
       "array([16.65201686, 14.68461625, 12.4547896 , 11.02065828, 10.16799165,\n",
       "        9.78929359,  9.02226908,  8.89781411,  8.70819612,  8.25437384])"
      ]
     },
     "execution_count": 46,
     "metadata": {},
     "output_type": "execute_result"
    }
   ],
   "source": [
    "scores"
   ]
  },
  {
   "cell_type": "code",
   "execution_count": 47,
   "metadata": {
    "ExecuteTime": {
     "end_time": "2020-04-06T16:51:41.574171Z",
     "start_time": "2020-04-06T16:51:41.545215Z"
    }
   },
   "outputs": [
    {
     "data": {
      "text/html": [
       "<div>\n",
       "<style scoped>\n",
       "    .dataframe tbody tr th:only-of-type {\n",
       "        vertical-align: middle;\n",
       "    }\n",
       "\n",
       "    .dataframe tbody tr th {\n",
       "        vertical-align: top;\n",
       "    }\n",
       "\n",
       "    .dataframe thead th {\n",
       "        text-align: right;\n",
       "    }\n",
       "</style>\n",
       "<table border=\"1\" class=\"dataframe\">\n",
       "  <thead>\n",
       "    <tr style=\"text-align: right;\">\n",
       "      <th></th>\n",
       "      <th>denomination</th>\n",
       "      <th>sentence</th>\n",
       "    </tr>\n",
       "  </thead>\n",
       "  <tbody>\n",
       "    <tr>\n",
       "      <th>7143</th>\n",
       "      <td>VINCI</td>\n",
       "      <td>Ces risques prennent plusieurs formes : pollution de l’eau, pollution sonore, pollution des sols, pollution de l’air, pollution lumineuse, pollution visuelle.</td>\n",
       "    </tr>\n",
       "    <tr>\n",
       "      <th>9552</th>\n",
       "      <td>EDF</td>\n",
       "      <td>Il s’attache également à développement de la mobilité électrique pour lutter plus efficacement contre la pollution de l’air et pour limiter l’empreinte carbone du secteur des transports, en complément des actions entreprises par le secteur énergétique ;</td>\n",
       "    </tr>\n",
       "    <tr>\n",
       "      <th>6015</th>\n",
       "      <td>VINCI</td>\n",
       "      <td>Dans la branche concessions, notamment chez VINCI Airports et VINCI Autoroutes, les rejets dans l’air proviennent d’une utilisation par les clients de véhicules automobiles, camions, avions, etc. Pour limiter la congestion du trafic et lutter contre la pollution de l’air, VINCI Autoroutes a mis en place des mesures de régulation de la vitesse et de télépéage sans arrêt, et favorise les mobilités partagées.</td>\n",
       "    </tr>\n",
       "    <tr>\n",
       "      <th>1934</th>\n",
       "      <td>Michelin</td>\n",
       "      <td>Risques de pollution de l’air, des sols et de l’eau Michelin a pris pleinement la mesure des enjeux et des risques issus des rejets dans les sols.</td>\n",
       "    </tr>\n",
       "    <tr>\n",
       "      <th>13590</th>\n",
       "      <td>Auchen Holding</td>\n",
       "      <td>traitement des eaux usées et effluents ; P émissions dans l’air ; P gestion des déchets ; P prévention de la pollution et substances dangereuses et P potentiellement dangereuses ; gestion des interventions d’urgence.</td>\n",
       "    </tr>\n",
       "    <tr>\n",
       "      <th>531</th>\n",
       "      <td>Michelin</td>\n",
       "      <td>La pollution de l’air dans les grandes villes d’Asie, Chine et Inde en particulier, reste un sujet de préoccupation sanitaire particulier ; elle fait l’objet de mesures d’information et de protection des personnes.</td>\n",
       "    </tr>\n",
       "    <tr>\n",
       "      <th>8656</th>\n",
       "      <td>EDF</td>\n",
       "      <td>C’est la première flotte d’entreprise à contribuer à l’amélioration de la qualité de l’air en détectant et mesurant la pollution aux particules les plus fines et les plus dangereuses pour la santé ; ▪ Citelum met en œuvre son savoir-faire en termes d’éclairage intelligent et de services connectés pour accompagner Airparif dans sa politique d’amélioration de la qualité de l’air en Ile-de-France.</td>\n",
       "    </tr>\n",
       "    <tr>\n",
       "      <th>13162</th>\n",
       "      <td>Auchen Holding</td>\n",
       "      <td>Réduire au maximum le risque de pollution lié à l’exploitation des sites Sur les magasins, les principaux risques de pollution de l’environnement sont liés aux fuites de fluides frigorigènes pour la pollution atmosphérique ainsi qu’à stations-service pour la pollution des sols et des eaux.</td>\n",
       "    </tr>\n",
       "    <tr>\n",
       "      <th>1224</th>\n",
       "      <td>Michelin</td>\n",
       "      <td>Les principaux facteurs de risque associés au processus de fabrication des pneumatiques sont la consommation de ressources (énergie, eau), la pollution des sols, de l’eau et de l’air, les émissions de gaz à effet de serre et la gestion des déchets.</td>\n",
       "    </tr>\n",
       "    <tr>\n",
       "      <th>15681</th>\n",
       "      <td>Carrefour</td>\n",
       "      <td>● lutter contre les violences faites aux femmes ;</td>\n",
       "    </tr>\n",
       "  </tbody>\n",
       "</table>\n",
       "</div>"
      ],
      "text/plain": [
       "         denomination  \\\n",
       "7143   VINCI            \n",
       "9552   EDF              \n",
       "6015   VINCI            \n",
       "1934   Michelin         \n",
       "13590  Auchen Holding   \n",
       "531    Michelin         \n",
       "8656   EDF              \n",
       "13162  Auchen Holding   \n",
       "1224   Michelin         \n",
       "15681  Carrefour        \n",
       "\n",
       "                                                                                                                                                                                                                                                                                                                                                                                                                        sentence  \n",
       "7143   Ces risques prennent plusieurs formes : pollution de l’eau, pollution sonore, pollution des sols, pollution de l’air, pollution lumineuse, pollution visuelle.                                                                                                                                                                                                                                                             \n",
       "9552   Il s’attache également à développement de la mobilité électrique pour lutter plus efficacement contre la pollution de l’air et pour limiter l’empreinte carbone du secteur des transports, en complément des actions entreprises par le secteur énergétique ;                                                                                                                                                              \n",
       "6015   Dans la branche concessions, notamment chez VINCI Airports et VINCI Autoroutes, les rejets dans l’air proviennent d’une utilisation par les clients de véhicules automobiles, camions, avions, etc. Pour limiter la congestion du trafic et lutter contre la pollution de l’air, VINCI Autoroutes a mis en place des mesures de régulation de la vitesse et de télépéage sans arrêt, et favorise les mobilités partagées.  \n",
       "1934   Risques de pollution de l’air, des sols et de l’eau Michelin a pris pleinement la mesure des enjeux et des risques issus des rejets dans les sols.                                                                                                                                                                                                                                                                         \n",
       "13590  traitement des eaux usées et effluents ; P émissions dans l’air ; P gestion des déchets ; P prévention de la pollution et substances dangereuses et P potentiellement dangereuses ; gestion des interventions d’urgence.                                                                                                                                                                                                   \n",
       "531    La pollution de l’air dans les grandes villes d’Asie, Chine et Inde en particulier, reste un sujet de préoccupation sanitaire particulier ; elle fait l’objet de mesures d’information et de protection des personnes.                                                                                                                                                                                                     \n",
       "8656   C’est la première flotte d’entreprise à contribuer à l’amélioration de la qualité de l’air en détectant et mesurant la pollution aux particules les plus fines et les plus dangereuses pour la santé ; ▪ Citelum met en œuvre son savoir-faire en termes d’éclairage intelligent et de services connectés pour accompagner Airparif dans sa politique d’amélioration de la qualité de l’air en Ile-de-France.              \n",
       "13162  Réduire au maximum le risque de pollution lié à l’exploitation des sites Sur les magasins, les principaux risques de pollution de l’environnement sont liés aux fuites de fluides frigorigènes pour la pollution atmosphérique ainsi qu’à stations-service pour la pollution des sols et des eaux.                                                                                                                         \n",
       "1224   Les principaux facteurs de risque associés au processus de fabrication des pneumatiques sont la consommation de ressources (énergie, eau), la pollution des sols, de l’eau et de l’air, les émissions de gaz à effet de serre et la gestion des déchets.                                                                                                                                                                   \n",
       "15681  ● lutter contre les violences faites aux femmes ;                                                                                                                                                                                                                                                                                                                                                                          "
      ]
     },
     "execution_count": 47,
     "metadata": {},
     "output_type": "execute_result"
    }
   ],
   "source": [
    "pd.set_option('display.max_colwidth', -1)\n",
    "indexes, scores = search('lutter pollution air')\n",
    "df.loc[indexes, [\"denomination\",\"sentence\"]]"
   ]
  },
  {
   "cell_type": "code",
   "execution_count": null,
   "metadata": {},
   "outputs": [],
   "source": []
  }
 ],
 "metadata": {
  "kernelspec": {
   "display_name": "Python 3",
   "language": "python",
   "name": "python3"
  },
  "language_info": {
   "codemirror_mode": {
    "name": "ipython",
    "version": 3
   },
   "file_extension": ".py",
   "mimetype": "text/x-python",
   "name": "python",
   "nbconvert_exporter": "python",
   "pygments_lexer": "ipython3",
   "version": "3.7.5"
  }
 },
 "nbformat": 4,
 "nbformat_minor": 2
}
