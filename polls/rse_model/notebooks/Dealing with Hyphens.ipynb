{
 "cells": [
  {
   "cell_type": "code",
   "execution_count": 2,
   "metadata": {},
   "outputs": [],
   "source": [
    "import re"
   ]
  },
  {
   "cell_type": "code",
   "execution_count": 78,
   "metadata": {},
   "outputs": [],
   "source": [
    "attach = \"mot- mot\"\n",
    "attach_to_number = \"N - 666\"\n",
    "replace_hyph_by_long_hyph = \"non -4 non-non non-6 mot - mot non mot - mot 5\"\n"
   ]
  },
  {
   "cell_type": "code",
   "execution_count": 89,
   "metadata": {},
   "outputs": [
    {
     "name": "stdout",
     "output_type": "stream",
     "text": [
      "mot- mot           --->           mot- mot\n",
      "N - 666           --->           N -666\n",
      "non -4 non-non non-6 mot - mot non mot - mot 5           --->           non -4 non-non non-6 mot – mot non mot – mot 5\n",
      "           --->           \n"
     ]
    }
   ],
   "source": [
    "def clean_child_str(child_str):\n",
    "    child_str = ' '.join(child_str.split()).strip()\n",
    "    # dealing with hyphens:\n",
    "    # 1. Replace words separators in row by a different char than hyphen (i.e. longer hyphen)\n",
    "    child_str = re.sub(\"[A-Za-z] - [A-Za-z]\", lambda x:x.group(0).replace(' - ', ' – '), child_str)\n",
    "    # 2. Attach the negative term to the following number, # TODO: inutile ? Enlever ?\n",
    "    child_str = re.sub(\"(- )([0-9])\", r\"-\\2\", child_str)\n",
    "    return child_str\n",
    "\n",
    "for mot in [attach, attach_to_number, replace_hyph_by_long_hyph, do_not_replace_by_long_hypj]:\n",
    "    print(mot + \"           --->           \" + clean_child_str(mot))"
   ]
  },
  {
   "cell_type": "code",
   "execution_count": 93,
   "metadata": {},
   "outputs": [
    {
     "data": {
      "text/plain": [
       "'motmot ___ Amot'"
      ]
     },
     "execution_count": 93,
     "metadata": {},
     "output_type": "execute_result"
    }
   ],
   "source": [
    "# sur les paragraphs finaux...\n",
    "re.sub(\"[A-Za-z]- [A-Za-z]\", lambda x:x.group(0).replace('- ',''), \"mot- mot ___ A- mot\")"
   ]
  },
  {
   "cell_type": "code",
   "execution_count": 27,
   "metadata": {},
   "outputs": [
    {
     "data": {
      "text/plain": [
       "{'paragraph': '2. pré-analyse de risques pour déterminer la nécessité d’effectuer une analyse approfondie pour chaque critère (HSE, anti-corruption, sociétal, financier, technique)'}"
      ]
     },
     "execution_count": 27,
     "metadata": {},
     "output_type": "execute_result"
    }
   ],
   "source": [
    "def clean_paragraph(p):\n",
    "    \"\"\" Curate paragraph object before save, in particular deal with hyphen and spaces \"\"\"\n",
    "    # Attach together words (>= 2 char to avoid things like A minus, B minus...)\n",
    "    # that may have been split at end of row like géographie = \"géo - graphie\"\n",
    "    # real separator have been turned into longer hyphen during parsing to avoid confusion with those.\n",
    "    p[\"paragraph\"] = re.sub(\"[A-Za-z]{2,} \\- [A-Za-z]\", lambda x: x.group(0).replace(' - ', ''), p[\"paragraph\"])\n",
    "    # reattach words that were split, like Fort-Cros = \"Fort- Cros\"\n",
    "    p[\"paragraph\"] = re.sub(\"[A-Za-zé]{2,}- [A-Za-z]\", lambda x: x.group(0).replace('- ', '-'), p[\"paragraph\"])\n",
    "    return p\n",
    "clean_paragraph({\"paragraph\":\"2. pré- analyse de risques pour déterminer la nécessité d’effectuer une analyse approfondie pour chaque critère (HSE, anti-corruption, sociétal, financier, technique)\"})"
   ]
  },
  {
   "cell_type": "code",
   "execution_count": 16,
   "metadata": {},
   "outputs": [
    {
     "name": "stdout",
     "output_type": "stream",
     "text": [
      "1\n",
      "2\n",
      "3\n",
      "4\n",
      "Helo\n",
      "He\n",
      "Hey\n",
      "Hey\n",
      "llo\n",
      "lly\n",
      "llo\n",
      "ll o\n",
      "ll y\n",
      "Hello Tom\n",
      "HelloTom\n"
     ]
    }
   ],
   "source": [
    "import re\n",
    "if re.search(\"l+\",\"Hello\"):        print (1)  # Substring match suffices\n",
    "if not re.match(\"ell.\",\"Hello\"):   print (2)  # The beginning of the string has to match\n",
    "if re.match(\".el\",\"Hello\"):        print (3)\n",
    "if re.match(\"he..o\",\"Hello\",re.I): print (4)  # Case-insensitive match\n",
    "print (re.sub(\"l+\", \"l\", \"Hello\")  )          # Prints \"Helo\"; replacement AKA substitution\n",
    "print (re.sub(r\"(.*)\\1\", r\"\\1\", \"FIrst He\"))    # Prints \"Hey\"; backreference\n",
    "print (re.sub(\"EY\", \"ey\", \"HEy\", flags=re.I)) # Prints \"Hey\"; case-insensitive sub\n",
    "print (re.sub(r\"(?i)EY\", r\"ey\", \"HEy\"))       # Prints \"Hey\"; case-insensitive sub\n",
    "for match in re.findall(\"l+.\", \"Hello Dolly\"):\n",
    "    print (match)                               # Prints \"llo\" and then \"lly\"\n",
    "for match in re.findall(\"e(l+.)\", \"Hello Dolly\"):\n",
    "    print (match)                               # Prints \"llo\"; match picks group 1\n",
    "for match in re.findall(\"(l+)(.)\", \"Hello Dolly\"):\n",
    "    print (match[0], match[1])                  # The groups end up as items in a tuple\n",
    "match = re.match(\"(Hello|Hi) (Tom|Thom)\",\"Hello Tom Bombadil\")\n",
    "if match:                                 # Equivalent to if match is not None\n",
    "    print (match.group(0)  )                  # Prints the whole match disregarding groups\n",
    "    print( match.group(1) + match.group(2))   # Prints \"HelloTom\""
   ]
  },
  {
   "cell_type": "code",
   "execution_count": null,
   "metadata": {},
   "outputs": [],
   "source": [
    "print()"
   ]
  }
 ],
 "metadata": {
  "kernelspec": {
   "display_name": "Python 3",
   "language": "python",
   "name": "python3"
  },
  "language_info": {
   "codemirror_mode": {
    "name": "ipython",
    "version": 3
   },
   "file_extension": ".py",
   "mimetype": "text/x-python",
   "name": "python",
   "nbconvert_exporter": "python",
   "pygments_lexer": "ipython3",
   "version": "3.6.8"
  }
 },
 "nbformat": 4,
 "nbformat_minor": 4
}
