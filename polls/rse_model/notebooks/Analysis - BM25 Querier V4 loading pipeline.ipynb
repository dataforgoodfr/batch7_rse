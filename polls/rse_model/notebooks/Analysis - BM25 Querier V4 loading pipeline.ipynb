{
 "cells": [
  {
   "cell_type": "code",
   "execution_count": 3,
   "metadata": {
    "ExecuteTime": {
     "end_time": "2020-05-01T08:39:45.345829Z",
     "start_time": "2020-05-01T08:39:45.334859Z"
    }
   },
   "outputs": [],
   "source": [
    "# V1 without saving bm25 in same repo than spacy model\n",
    "import copy\n",
    "import spacy\n",
    "import pickle\n",
    "import numpy as np\n",
    "class Scoring(object):\n",
    "    def __init__(self, param):\n",
    "        self.param = param\n",
    "    def weights(self, document):\n",
    "        return [self.param for token in document]\n",
    "class ScorerComponent(object):\n",
    "    name = \"scorer_component\"\n",
    "\n",
    "    def __init__(self):\n",
    "        self.data = {}\n",
    "        self.IGNORED_POS = ['PRON', 'AUX', 'DET', \"PUNCT\"]\n",
    "\n",
    "    def add_scorer(self, scorer):\n",
    "        self.data[\"scorer\"] = copy.deepcopy(scorer)\n",
    "\n",
    "    # TODO: refactor\n",
    "    def __call__(self, doc):\n",
    "        \" Score each non-punctuation token from spacy doc, and overwrite the vector representation using BM25 weights\"\n",
    "        word_tokens = [token.text for token in doc if token.pos_ not in self.IGNORED_POS]\n",
    "        word_vectors = [token.vector for token in doc if token.pos_ not in self.IGNORED_POS]\n",
    "        weights = self.data[\"scorer\"].weights(word_tokens)\n",
    "        doc.vector = np.average(word_vectors, weights=np.array(weights, dtype=np.float32),axis=0)\n",
    "        return doc\n",
    "    def to_disk(self, path, **kwargs):\n",
    "        data_path = path / \"words_scorer.pckl\"\n",
    "        print(\"Saving scorer to {}.\".format(data_path))\n",
    "        with open(data_path, \"wb\") as f:\n",
    "            pickle.dump(self.data[\"scorer\"], f)\n",
    "    def from_disk(self, path, **kwargs):\n",
    "        data_path = path / \"words_scorer.pckl\"\n",
    "        print(\"Loading scorer.\")\n",
    "        with open(data_path, \"rb\") as f:\n",
    "            self.data[\"scorer\"] = pickle.load(f)"
   ]
  },
  {
   "cell_type": "code",
   "execution_count": 4,
   "metadata": {
    "ExecuteTime": {
     "end_time": "2020-05-01T08:40:01.245694Z",
     "start_time": "2020-05-01T08:39:45.967436Z"
    }
   },
   "outputs": [
    {
     "name": "stdout",
     "output_type": "stream",
     "text": [
      "Loading scorer.\n"
     ]
    },
    {
     "data": {
      "text/plain": [
       "[('tagger', <spacy.pipeline.pipes.Tagger at 0x1a428b2fcc8>),\n",
       " ('parser', <spacy.pipeline.pipes.DependencyParser at 0x1a44e39d3a8>),\n",
       " ('ner', <spacy.pipeline.pipes.EntityRecognizer at 0x1a44e39d4c8>),\n",
       " ('scorer_component', <__main__.ScorerComponent at 0x1a44e39a488>)]"
      ]
     },
     "execution_count": 4,
     "metadata": {},
     "output_type": "execute_result"
    }
   ],
   "source": [
    "# loading back\n",
    "from spacy.language import Language\n",
    "Language.factories[\"scorer_component\"] = lambda nlp, **cfg: ScorerComponent()\n",
    "nlp_l = spacy.load(\"../../data/model/\")\n",
    "nlp_l.pipeline"
   ]
  },
  {
   "cell_type": "code",
   "execution_count": 5,
   "metadata": {
    "ExecuteTime": {
     "end_time": "2020-05-01T08:40:17.665724Z",
     "start_time": "2020-05-01T08:40:17.648747Z"
    }
   },
   "outputs": [
    {
     "data": {
      "text/plain": [
       "1.3702624"
      ]
     },
     "execution_count": 5,
     "metadata": {},
     "output_type": "execute_result"
    }
   ],
   "source": [
    "nlp_l(\"est un test pollution marine\").vector.sum()"
   ]
  },
  {
   "cell_type": "code",
   "execution_count": null,
   "metadata": {},
   "outputs": [],
   "source": []
  }
 ],
 "metadata": {
  "kernelspec": {
   "display_name": "Python 3",
   "language": "python",
   "name": "python3"
  },
  "language_info": {
   "codemirror_mode": {
    "name": "ipython",
    "version": 3
   },
   "file_extension": ".py",
   "mimetype": "text/x-python",
   "name": "python",
   "nbconvert_exporter": "python",
   "pygments_lexer": "ipython3",
   "version": "3.7.5"
  }
 },
 "nbformat": 4,
 "nbformat_minor": 2
}
