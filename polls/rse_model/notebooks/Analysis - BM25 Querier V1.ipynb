{
 "cells": [
  {
   "cell_type": "markdown",
   "metadata": {},
   "source": [
    "# Premier essai BM25 pour requêter les DPEFs et chercher des sujets spécifiques.\n",
    "\n",
    "- Avec bag of words, courts fragemnts privilégiés\n",
    "- nécessité de ne garder que les phrase avec sujet + verbe + compléments ici\n",
    "- et d'aller à la maille de la phrase\n",
    "- embeddings vraiment snécéssaire égalements\n",
    "\n",
    "On peut voir que certains sujets cocernenntpus certaines entreprises."
   ]
  },
  {
   "cell_type": "code",
   "execution_count": 60,
   "metadata": {
    "ExecuteTime": {
     "end_time": "2020-04-04T16:17:26.079939Z",
     "start_time": "2020-04-04T16:17:26.057971Z"
    }
   },
   "outputs": [],
   "source": [
    "# ! pip install rank_bm25 \n",
    "import pandas as pd\n",
    "import numpy as np\n",
    "from rank_bm25 import BM25Okapi\n",
    "pd.options.display.max_colwidth=160\n",
    "\n",
    "# text\n",
    "from spacy.lang.fr import French\n",
    "from spacy.cli.download import download\n",
    "import spacy\n",
    "# download('fr_core_news_sm')\n",
    "nlp = French()\n",
    "def tokenize(input_str):\n",
    "    return [token.text for token in nlp(input_str)]"
   ]
  },
  {
   "cell_type": "code",
   "execution_count": 83,
   "metadata": {
    "ExecuteTime": {
     "end_time": "2020-04-04T16:24:45.541155Z",
     "start_time": "2020-04-04T16:24:42.512577Z"
    }
   },
   "outputs": [
    {
     "name": "stdout",
     "output_type": "stream",
     "text": [
      "(15135, 10)\n",
      "(13939, 10)\n"
     ]
    }
   ],
   "source": [
    "dpef_entreprises = \"../../data/processed/DPEFs/dpef_paragraphs.csv\"\n",
    "df = pd.read_csv(dpef_entreprises, sep=\";\")\n",
    "print(df.shape)\n",
    "df = df[df.paragraph.notna()]\n",
    "print(df.shape)\n",
    "df.head()\n",
    "df[\"paragraph_\"] = df[\"paragraph\"].apply(tokenize)\n",
    "df= df.reset_index()\n",
    "\n",
    "bm25_index = BM25Okapi(df[\"paragraph_\"].values.tolist())\n",
    "\n",
    "def search(search_string, num_results=10):\n",
    "    search_tokens = tokenize(search_string)\n",
    "    scores = bm25_index.get_scores(search_tokens)\n",
    "    top_indexes = np.argsort(scores)[::-1][:num_results]\n",
    "    top_scores = scores[top_indexes]\n",
    "    return top_indexes, top_scores\n",
    "\n",
    "indexes, scores = search('pêche poisson biodiversité')"
   ]
  },
  {
   "cell_type": "code",
   "execution_count": 84,
   "metadata": {
    "ExecuteTime": {
     "end_time": "2020-04-04T16:24:45.548201Z",
     "start_time": "2020-04-04T16:24:45.541155Z"
    }
   },
   "outputs": [
    {
     "data": {
      "text/plain": [
       "array([15.20710433, 11.26896059,  9.92932259,  9.76904939,  9.61386807,\n",
       "        9.30389025,  9.17655923,  9.17655923,  8.95955613,  8.9064717 ])"
      ]
     },
     "execution_count": 84,
     "metadata": {},
     "output_type": "execute_result"
    }
   ],
   "source": [
    "scores"
   ]
  },
  {
   "cell_type": "code",
   "execution_count": 85,
   "metadata": {
    "ExecuteTime": {
     "end_time": "2020-04-04T16:24:45.564159Z",
     "start_time": "2020-04-04T16:24:45.550196Z"
    }
   },
   "outputs": [
    {
     "data": {
      "text/plain": [
       "array([['Carrefour',\n",
       "        '● Carrefour France a mis en rayon quinze références de thon en conserve pêché à la canne ; cette technique de pêche sélective étant moins impactante que le dispositif de concentration de poisson.'],\n",
       "       ['Carrefour',\n",
       "        '2.2.3 Développer l’agroécologie 2.2.5 Agir pour une pêche et une aquaculture responsables 2.2.7 Agir pour protéger les forêts 2.3.4 Développer l’apiculture 2.3.5 Construire et rénover durablement, dans le respect de la biodiversité'],\n",
       "       ['Carrefour', 'la pêche et'],\n",
       "       ['Carrefour', 'l’offre de pêche'],\n",
       "       ['Carrefour', 'la pêche durable, en'],\n",
       "       ['Carrefour',\n",
       "        '● privilégier les espèces abondantes, les produits certifiés MSC pêche durable et les techniques de pêche aux impacts moindres sur les écosystèmes. Carrefour commercialisation des espèces sensibles ;'],\n",
       "       ['Carrefour', 'la pêche électrique. Carrefour France a ainsi'],\n",
       "       ['Carrefour',\n",
       "        'Agir pour une pêche et une aquaculture responsables'],\n",
       "       ['Carrefour',\n",
       "        'Ventes MSC, ASC et FQC pêche (1) (en millions d’euros) Part de poissons vendus de marques Carrefour issus de la pêche durable (2) (en %)'],\n",
       "       ['Carrefour',\n",
       "        '● agir pour une pêche et une aquaculture responsable ;']],\n",
       "      dtype=object)"
      ]
     },
     "execution_count": 85,
     "metadata": {},
     "output_type": "execute_result"
    }
   ],
   "source": [
    "df.loc[indexes, [\"denomination\",\"paragraph\"]].values"
   ]
  },
  {
   "cell_type": "code",
   "execution_count": null,
   "metadata": {},
   "outputs": [],
   "source": []
  }
 ],
 "metadata": {
  "kernelspec": {
   "display_name": "Python 3",
   "language": "python",
   "name": "python3"
  },
  "language_info": {
   "codemirror_mode": {
    "name": "ipython",
    "version": 3
   },
   "file_extension": ".py",
   "mimetype": "text/x-python",
   "name": "python",
   "nbconvert_exporter": "python",
   "pygments_lexer": "ipython3",
   "version": "3.7.5"
  }
 },
 "nbformat": 4,
 "nbformat_minor": 2
}
