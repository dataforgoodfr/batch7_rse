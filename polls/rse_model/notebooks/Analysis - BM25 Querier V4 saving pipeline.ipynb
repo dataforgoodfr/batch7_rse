{
 "cells": [
  {
   "cell_type": "code",
   "execution_count": null,
   "metadata": {},
   "outputs": [],
   "source": []
  },
  {
   "cell_type": "code",
   "execution_count": null,
   "metadata": {},
   "outputs": [],
   "source": []
  },
  {
   "cell_type": "code",
   "execution_count": null,
   "metadata": {},
   "outputs": [],
   "source": []
  },
  {
   "cell_type": "code",
   "execution_count": 9,
   "metadata": {
    "ExecuteTime": {
     "end_time": "2020-05-01T08:02:13.567039Z",
     "start_time": "2020-05-01T08:02:13.562051Z"
    }
   },
   "outputs": [],
   "source": []
  },
  {
   "cell_type": "code",
   "execution_count": 6,
   "metadata": {
    "ExecuteTime": {
     "end_time": "2020-05-01T07:51:36.727761Z",
     "start_time": "2020-05-01T07:51:36.722776Z"
    }
   },
   "outputs": [
    {
     "data": {
      "text/plain": [
       "[0.5, 0.5, 0.5, 0.5, 0.5, 0.5]"
      ]
     },
     "execution_count": 6,
     "metadata": {},
     "output_type": "execute_result"
    }
   ],
   "source": [
    "scorer = Scoring(0.7)\n",
    "scorer.weights(\"Ceci est un test pollution marine\".split())"
   ]
  },
  {
   "cell_type": "code",
   "execution_count": 66,
   "metadata": {
    "ExecuteTime": {
     "end_time": "2020-05-01T08:38:02.226304Z",
     "start_time": "2020-05-01T08:37:47.087813Z"
    }
   },
   "outputs": [],
   "source": [
    "# V1 without saving bm25 in same repo than spacy model\n",
    "import copy\n",
    "import spacy\n",
    "import pickle\n",
    "import numpy as np\n",
    "class Scoring(object):\n",
    "    def __init__(self, param):\n",
    "        self.param = param\n",
    "    def weights(self, document):\n",
    "        return [self.param for token in document]\n",
    "    \n",
    "class ScorerComponent(object):\n",
    "    name = \"scorer_component\"\n",
    "\n",
    "    def __init__(self):\n",
    "        self.data = {}\n",
    "        self.IGNORED_POS = ['PRON', 'AUX', 'DET', \"PUNCT\"]\n",
    "\n",
    "    def add_scorer(self, scorer):\n",
    "        self.data[\"scorer\"] = copy.deepcopy(scorer)\n",
    "\n",
    "    # TODO: refactor\n",
    "    def __call__(self, doc):\n",
    "        \" Score each non-punctuation token from spacy doc, and overwrite the vector representation using BM25 weights\"\n",
    "        word_tokens = [token.text for token in doc if token.pos_ not in self.IGNORED_POS]\n",
    "        word_vectors = [token.vector for token in doc if token.pos_ not in self.IGNORED_POS]\n",
    "        weights = self.data[\"scorer\"].weights(word_tokens)\n",
    "        doc.vector = np.average(word_vectors, weights=np.array(weights, dtype=np.float32),axis=0)\n",
    "        return doc\n",
    "    def to_disk(self, path, **kwargs):\n",
    "        data_path = path / \"words_scorer.pckl\"\n",
    "        print(\"Saving scorer to {}.\".format(data_path))\n",
    "        with open(data_path, \"wb\") as f:\n",
    "            pickle.dump(self.data[\"scorer\"], f)\n",
    "    def from_disk(self, path, **kwargs):\n",
    "        data_path = path / \"words_scorer.pckl\"\n",
    "        print(\"Loading scorer.\")\n",
    "        with open(data_path, \"rb\") as f:\n",
    "            self.data[\"scorer\"] = pickle.load(f)\n",
    "nlp = spacy.load('fr_core_news_md')"
   ]
  },
  {
   "cell_type": "code",
   "execution_count": 67,
   "metadata": {
    "ExecuteTime": {
     "end_time": "2020-05-01T08:38:08.151228Z",
     "start_time": "2020-05-01T08:38:02.226304Z"
    }
   },
   "outputs": [
    {
     "name": "stdout",
     "output_type": "stream",
     "text": [
      "Saving scorer to ..\\..\\data\\model\\scorer_component\\words_scorer.pckl.\n"
     ]
    }
   ],
   "source": [
    "scorer = Scoring(0.6)\n",
    "scorer_component = ScorerComponent()\n",
    "scorer_component.add_scorer(scorer)\n",
    "if \"scorer_component\" in str(nlp.pipeline):\n",
    "    nlp.replace_pipe(\"scorer_component\", scorer_component)\n",
    "else:\n",
    "    nlp.add_pipe(scorer_component)\n",
    "nlp.to_disk(\"../../data/model/\")"
   ]
  },
  {
   "cell_type": "code",
   "execution_count": 56,
   "metadata": {
    "ExecuteTime": {
     "end_time": "2020-05-01T08:34:04.121772Z",
     "start_time": "2020-05-01T08:33:49.118469Z"
    }
   },
   "outputs": [
    {
     "name": "stdout",
     "output_type": "stream",
     "text": [
      "Loading scorer.\n"
     ]
    },
    {
     "data": {
      "text/plain": [
       "[('tagger', <spacy.pipeline.pipes.Tagger at 0x276c144cc88>),\n",
       " ('parser', <spacy.pipeline.pipes.DependencyParser at 0x276c1453228>),\n",
       " ('ner', <spacy.pipeline.pipes.EntityRecognizer at 0x276c1453348>),\n",
       " ('scorer_component', <__main__.ScorerComponent at 0x276c144ce88>)]"
      ]
     },
     "execution_count": 56,
     "metadata": {},
     "output_type": "execute_result"
    }
   ],
   "source": [
    "# loading back\n",
    "from spacy.language import Language\n",
    "Language.factories[\"scorer_component\"] = lambda nlp, **cfg: ScorerComponent()\n",
    "nlp_l = spacy.load(\"../../data/model/\")\n",
    "nlp_l.pipeline"
   ]
  },
  {
   "cell_type": "code",
   "execution_count": 79,
   "metadata": {
    "ExecuteTime": {
     "end_time": "2020-05-01T09:59:28.214961Z",
     "start_time": "2020-05-01T09:59:28.195978Z"
    }
   },
   "outputs": [],
   "source": [
    "# nlp = spacy.load('fr_core_news_md')\n",
    "a = nlp_l(\"est un test pollution marine\").vector; b= nlp(\"est un test pollution marine\").vector;"
   ]
  },
  {
   "cell_type": "code",
   "execution_count": 80,
   "metadata": {
    "ExecuteTime": {
     "end_time": "2020-05-01T09:59:28.366000Z",
     "start_time": "2020-05-01T09:59:28.356027Z"
    }
   },
   "outputs": [
    {
     "data": {
      "text/plain": [
       "0.83117425"
      ]
     },
     "execution_count": 80,
     "metadata": {},
     "output_type": "execute_result"
    }
   ],
   "source": [
    "from sklearn.metrics.pairwise import cosine_similarity\n",
    "cosine_similarity(a.reshape(1, -1), b.reshape(1, -1))[0][0]"
   ]
  },
  {
   "cell_type": "code",
   "execution_count": 86,
   "metadata": {
    "ExecuteTime": {
     "end_time": "2020-05-01T10:31:47.756160Z",
     "start_time": "2020-05-01T10:31:47.751122Z"
    }
   },
   "outputs": [],
   "source": [
    "def similarity_to_vector(doc, vector):\n",
    "    \"\"\"\n",
    "    Extension method to Doc objects that return the cosine similarity.\n",
    "    :param doc: a doc obtained from a spacy model\n",
    "    :param vector: a vector of same dimension (numpy array).\n",
    "    :return: cosine similarity (float)\n",
    "    \"\"\"\n",
    "    if vector is None:\n",
    "        raise ValueError(\"Forgotten 'vector' argument.\")\n",
    "    vec1 = doc.vector\n",
    "    vec2 = vector\n",
    "    return cosine_similarity(vec1.reshape(1, -1), vec2.reshape(1, -1))[0][0]\n",
    "\n",
    "\n",
    "spacy.tokens.Doc.set_extension(\"similarity_to_vector\", method=similarity_to_vector, force=True)"
   ]
  },
  {
   "cell_type": "code",
   "execution_count": 87,
   "metadata": {
    "ExecuteTime": {
     "end_time": "2020-05-01T10:31:48.149681Z",
     "start_time": "2020-05-01T10:31:48.118736Z"
    }
   },
   "outputs": [
    {
     "data": {
      "text/plain": [
       "0.9759711"
      ]
     },
     "execution_count": 87,
     "metadata": {},
     "output_type": "execute_result"
    }
   ],
   "source": [
    "nlp(\"Ceci est un test pollution marine\")._.similarity_to_vector(nlp(\"Ceci est un test pollution marine error\").vector)"
   ]
  },
  {
   "cell_type": "code",
   "execution_count": 70,
   "metadata": {
    "ExecuteTime": {
     "end_time": "2020-05-01T09:38:20.848599Z",
     "start_time": "2020-05-01T09:38:20.834639Z"
    }
   },
   "outputs": [
    {
     "data": {
      "text/plain": [
       "()"
      ]
     },
     "execution_count": 70,
     "metadata": {},
     "output_type": "execute_result"
    }
   ],
   "source": [
    "nlp_l(\"est un test pollution marine\").ents"
   ]
  },
  {
   "cell_type": "code",
   "execution_count": 88,
   "metadata": {
    "ExecuteTime": {
     "end_time": "2020-05-01T12:06:31.151223Z",
     "start_time": "2020-05-01T12:06:31.140211Z"
    }
   },
   "outputs": [],
   "source": [
    "from pathlib import Path\n",
    "\n",
    "data_folder = Path(\"source_data/text_files/\")\n",
    "\n",
    "file_to_open = data_folder / \"raw_data.txt\""
   ]
  },
  {
   "cell_type": "code",
   "execution_count": 104,
   "metadata": {
    "ExecuteTime": {
     "end_time": "2020-05-01T12:16:29.563830Z",
     "start_time": "2020-05-01T12:16:29.558805Z"
    }
   },
   "outputs": [],
   "source": [
    "Path(\"my/directory/\").mkdir(parents=False, exist_ok=True)\n"
   ]
  }
 ],
 "metadata": {
  "kernelspec": {
   "display_name": "Python 3",
   "language": "python",
   "name": "python3"
  },
  "language_info": {
   "codemirror_mode": {
    "name": "ipython",
    "version": 3
   },
   "file_extension": ".py",
   "mimetype": "text/x-python",
   "name": "python",
   "nbconvert_exporter": "python",
   "pygments_lexer": "ipython3",
   "version": "3.7.5"
  }
 },
 "nbformat": 4,
 "nbformat_minor": 2
}
