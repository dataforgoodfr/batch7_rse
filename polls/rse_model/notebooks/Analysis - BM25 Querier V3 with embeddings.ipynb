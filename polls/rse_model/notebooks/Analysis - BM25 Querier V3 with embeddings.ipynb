{
 "cells": [
  {
   "cell_type": "markdown",
   "metadata": {},
   "source": [
    "# Deuxième essai BM25 pour requêter les DPEFs et chercher des sujets spécifiques."
   ]
  },
  {
   "cell_type": "code",
   "execution_count": 1,
   "metadata": {
    "ExecuteTime": {
     "end_time": "2020-05-01T12:21:18.137136Z",
     "start_time": "2020-05-01T12:21:12.688944Z"
    }
   },
   "outputs": [],
   "source": [
    "%load_ext autoreload\n",
    "%autoreload 2\n",
    "\n",
    "# general libraries\n",
    "import pandas as pd; pd.set_option('display.max_colwidth', -1)\n",
    "import numpy as np\n",
    "\n",
    "# NLP libraries\n",
    "from spacy.lang.fr import French\n",
    "import spacy\n",
    "# from spacy.cli.download import download\n",
    "# download('fr_core_news_md')\n",
    "\n",
    "# custom libraries\n",
    "import scoring\n",
    "\n",
    "# indexing\n",
    "# Microsoft Visual C++ 14.0 is required. \n",
    "# Get it with \"Build Tools for Visual Studio\": https://visualstudio.microsoft.com/downloads/\n",
    "# CGA: can't install right now...\n",
    "# !pip install annoy\n",
    "# from annoy import AnnoyIndex"
   ]
  },
  {
   "cell_type": "code",
   "execution_count": 2,
   "metadata": {
    "ExecuteTime": {
     "end_time": "2020-05-01T12:21:18.477524Z",
     "start_time": "2020-05-01T12:21:18.139129Z"
    }
   },
   "outputs": [
    {
     "name": "stdout",
     "output_type": "stream",
     "text": [
      "(23874, 9)\n"
     ]
    }
   ],
   "source": [
    "# DATA IMPORT\n",
    "dpef_entreprises = \"../../data/processed/DPEFs/dpef_paragraphs_sentences.csv\"\n",
    "df = pd.read_csv(dpef_entreprises, sep=\";\")\n",
    "print(df.shape)\n",
    "df = df.loc[0:1000]\n",
    "documents = df[\"sentence\"].values.tolist() # strings"
   ]
  },
  {
   "cell_type": "code",
   "execution_count": 3,
   "metadata": {
    "ExecuteTime": {
     "end_time": "2020-05-01T12:21:20.854918Z",
     "start_time": "2020-05-01T12:21:18.478523Z"
    }
   },
   "outputs": [],
   "source": [
    "nlp = spacy.load('fr_core_news_sm')"
   ]
  },
  {
   "cell_type": "code",
   "execution_count": 4,
   "metadata": {
    "ExecuteTime": {
     "end_time": "2020-05-01T12:21:21.030881Z",
     "start_time": "2020-05-01T12:21:20.854918Z"
    }
   },
   "outputs": [
    {
     "data": {
      "text/plain": [
       "[('tagger', <spacy.pipeline.pipes.Tagger at 0x215216b2d88>),\n",
       " ('parser', <spacy.pipeline.pipes.DependencyParser at 0x21521788fa8>),\n",
       " ('ner', <spacy.pipeline.pipes.EntityRecognizer at 0x21521776108>)]"
      ]
     },
     "execution_count": 4,
     "metadata": {},
     "output_type": "execute_result"
    }
   ],
   "source": [
    "nlp.pipeline"
   ]
  },
  {
   "cell_type": "code",
   "execution_count": 5,
   "metadata": {
    "ExecuteTime": {
     "end_time": "2020-05-01T12:21:36.808883Z",
     "start_time": "2020-05-01T12:21:33.551297Z"
    }
   },
   "outputs": [],
   "source": [
    "# instantiate the bm25 scorer using only words and not punctuation # <1min for 19k sentences\n",
    "documents_words = []\n",
    "for doc in nlp.pipe(documents, disable=[\"parser\",\"ner\"]):\n",
    "    documents_words.append([token.text for token in doc if token.pos_!=\"PUNCT\"])\n",
    "# bm25 = scoring.Scoring.create(\"bm25\")"
   ]
  },
  {
   "cell_type": "code",
   "execution_count": 1,
   "metadata": {
    "ExecuteTime": {
     "end_time": "2020-05-01T12:21:41.540169Z",
     "start_time": "2020-05-01T12:21:41.375017Z"
    }
   },
   "outputs": [
    {
     "ename": "NameError",
     "evalue": "name 'documents_words' is not defined",
     "output_type": "error",
     "traceback": [
      "\u001b[1;31m---------------------------------------------------------------------------\u001b[0m",
      "\u001b[1;31mNameError\u001b[0m                                 Traceback (most recent call last)",
      "\u001b[1;32m<ipython-input-1-7d708cd3944c>\u001b[0m in \u001b[0;36m<module>\u001b[1;34m\u001b[0m\n\u001b[1;32m----> 1\u001b[1;33m \u001b[0mdocuments_words\u001b[0m\u001b[1;33m[\u001b[0m\u001b[1;36m0\u001b[0m\u001b[1;33m]\u001b[0m\u001b[1;33m\u001b[0m\u001b[1;33m\u001b[0m\u001b[0m\n\u001b[0m",
      "\u001b[1;31mNameError\u001b[0m: name 'documents_words' is not defined"
     ]
    }
   ],
   "source": [
    "documents_words[0]"
   ]
  },
  {
   "cell_type": "code",
   "execution_count": 21,
   "metadata": {
    "ExecuteTime": {
     "end_time": "2020-04-30T10:03:46.115161Z",
     "start_time": "2020-04-30T10:03:45.936996Z"
    }
   },
   "outputs": [],
   "source": [
    "bm25.index(documents_words)"
   ]
  },
  {
   "cell_type": "code",
   "execution_count": 24,
   "metadata": {
    "ExecuteTime": {
     "end_time": "2020-04-30T10:06:31.514010Z",
     "start_time": "2020-04-30T10:06:31.304335Z"
    }
   },
   "outputs": [],
   "source": [
    "import pickle\n",
    "with open(\"../../data/model/words_scorer.pckl\", \"wb\") as f:\n",
    "    pickle.dump(bm25, f)"
   ]
  },
  {
   "cell_type": "code",
   "execution_count": 25,
   "metadata": {
    "ExecuteTime": {
     "end_time": "2020-04-30T10:06:49.330222Z",
     "start_time": "2020-04-30T10:06:49.152983Z"
    }
   },
   "outputs": [],
   "source": [
    "bm25_loaded = pickle.load(open(\"../../data/model/words_scorer.pckl\", \"rb\"))"
   ]
  },
  {
   "cell_type": "code",
   "execution_count": 33,
   "metadata": {
    "ExecuteTime": {
     "end_time": "2020-04-30T10:29:05.931880Z",
     "start_time": "2020-04-30T10:29:05.732061Z"
    }
   },
   "outputs": [
    {
     "data": {
      "text/plain": [
       "['PRON', 'AUX', 'DET', 'NOUN', 'NOUN', 'ADJ']"
      ]
     },
     "execution_count": 33,
     "metadata": {},
     "output_type": "execute_result"
    }
   ],
   "source": [
    "[token.pos_ for token in nlp(\"Ceci est un test pollution marine\")]"
   ]
  },
  {
   "cell_type": "code",
   "execution_count": 28,
   "metadata": {
    "ExecuteTime": {
     "end_time": "2020-04-30T10:07:22.764290Z",
     "start_time": "2020-04-30T10:07:22.577041Z"
    }
   },
   "outputs": [
    {
     "data": {
      "text/plain": [
       "[6.477348923759632,\n",
       " 2.0559555321585474,\n",
       " 1.8257452855735985,\n",
       " 6.477348923759632,\n",
       " 6.85257517701197,\n",
       " 6.477348923759632]"
      ]
     },
     "execution_count": 28,
     "metadata": {},
     "output_type": "execute_result"
    }
   ],
   "source": [
    "bm25_loaded.weights(\"Ceci est un test pollution marine\".split())"
   ]
  },
  {
   "cell_type": "code",
   "execution_count": 29,
   "metadata": {
    "ExecuteTime": {
     "end_time": "2020-04-30T10:21:23.660972Z",
     "start_time": "2020-04-30T10:21:07.990621Z"
    }
   },
   "outputs": [],
   "source": [
    "nlp = spacy.load('fr_core_news_md') # long because of vectors"
   ]
  },
  {
   "cell_type": "code",
   "execution_count": 43,
   "metadata": {
    "ExecuteTime": {
     "end_time": "2020-04-08T13:45:51.705163Z",
     "start_time": "2020-04-08T13:45:51.529097Z"
    }
   },
   "outputs": [],
   "source": [
    "# Add custom calculation of sentence weight\n",
    "# Improvement: removal of rare words, etc.\n",
    "# Improvement: add LSA model to reduce noise in embeddings...\n",
    "def overwrite_vector_with_weights(doc, scorer=bm25):\n",
    "    \" Score each non-punctuation token from spacy doc, and overwrite the vector representation using BM25 weights\"\n",
    "    word_tokens = [token.text for token in doc if token.pos_ != \"PUNCT\"]\n",
    "    word_vectors = [token.vector for token in doc if token.pos_ != \"PUNCT\"]\n",
    "    weights = bm25.weights(word_tokens)\n",
    "    doc.vector = np.average(word_vectors, weights=np.array(weights, dtype=np.float32),axis=0)\n",
    "    return doc\n",
    "if \"overwrite_vector_with_weights\" in nlp.pipeline:\n",
    "    nlp.replace_pipe(\"overwrite_vector_with_weights\", overwrite_vector_with_weights)\n",
    "else:\n",
    "    nlp.add_pipe(overwrite_vector_with_weights)"
   ]
  },
  {
   "cell_type": "code",
   "execution_count": 44,
   "metadata": {
    "ExecuteTime": {
     "end_time": "2020-04-08T13:47:27.081153Z",
     "start_time": "2020-04-08T13:45:52.447615Z"
    }
   },
   "outputs": [],
   "source": [
    "# transform all documents and overwrite their vector using BM25 weights\n",
    "documents = list(nlp.pipe(documents)) # else only done once"
   ]
  },
  {
   "cell_type": "code",
   "execution_count": 65,
   "metadata": {
    "ExecuteTime": {
     "end_time": "2020-04-08T13:56:34.049218Z",
     "start_time": "2020-04-08T13:56:33.761013Z"
    }
   },
   "outputs": [
    {
     "data": {
      "text/plain": [
       "(array([14578, 14931,  4271,  2955, 14928,   910,  4272, 16197, 13833,\n",
       "         2976], dtype=int64),\n",
       " array([0.83305887, 0.75814401, 0.7455708 , 0.69594272, 0.69349737,\n",
       "        0.64909942, 0.64175053, 0.63775241, 0.63639142, 0.63110251]))"
      ]
     },
     "execution_count": 65,
     "metadata": {},
     "output_type": "execute_result"
    }
   ],
   "source": [
    "new_doc = nlp('préservation biodiversité marine')\n",
    "N_TO_RETRIEVE = 10\n",
    "similarities = np.array([new_doc.similarity(doc) for doc in documents])\n",
    "best_matches = np.argsort(-similarities)[:10] # top n\n",
    "best_matches, similarities[best_matches]"
   ]
  },
  {
   "cell_type": "code",
   "execution_count": 66,
   "metadata": {
    "ExecuteTime": {
     "end_time": "2020-04-08T13:56:34.216194Z",
     "start_time": "2020-04-08T13:56:34.050216Z"
    }
   },
   "outputs": [
    {
     "name": "stdout",
     "output_type": "stream",
     "text": [
      "● le label Marine Stewardship Council (MSC) pour la pêche responsable, qui garantit non-pratique de la surpêche et le respect de l’environnement marin ; 0.8330588671578245\n",
      "Moderniser la flotte pour la rendre plus propre et silencieuse Carrefour modernise sa flotte de véhicules. 0.7581440102112053\n",
      "Eiffage met en œuvre en 2018 et 2019 des dispositifs biogènes et à biodiversité positive en milieu marin dans le cadre des travaux d’agran- dissement de Port-Haliguen (Morbihan), expérimentation soutenue par l’Agence française pour la biodiversité (AFB) dans le cadre du PIA 2 biodiversité. 0.7455707953751177\n",
      "sur la biodiversité dans les infrastructures (lutte contre les espèces invasives, mesures compensatoires, accueil de la biodiversité marine, etc.) et la biodiversité urbaine (toitures végétalisées, démarche en développement 0.6959427199222613\n",
      "● moderniser la flotte pour la rendre plus propre et silencieuse ; 0.6934973688803485\n",
      "dans différents environnements, avec l’approfondissement des études toxicologiques et éco toxicologiques sur le vieillissement à long terme des TRWP ainsi que leur éventuelle toxicité en milieu marin. 0.6490994184668675\n",
      "Investi dans ce domaine depuis 2013 via des partenariats avec des ingénieries innovantes (Seaboost, Créocéan, etc.), Eiffage cible d’autres marchés pour ces actions de génie écologique marin, à l’image de l’éolien offshore. 0.6417505300493962\n",
      "● liées aux transports aval rail (cas de la France notamment) et maritime. 0.6377524099886274\n",
      "Proposer des produits ne nuisant pas à la biodiversité Soucieux de préserver les ressources marines, Auchan Retail est engagé depuis 10 ans pour éviter la surpêche et protéger l’environnement. 0.6363914150165236\n",
      "posidonies et 141 grandes nacres ont été transplantés dans des lieux protégés (principalement la réserve marine protégée du Larvotto) et où l’infrastructure maritime est éco-conçue à travers la création d’aménagements écologiques sur les caissons, les enrochements et les émissaires, et la création de récifs artiﬁ ciels. 0.6311025053155069\n"
     ]
    }
   ],
   "source": [
    "for bet_match_i in best_matches:\n",
    "    print(documents[bet_match_i], similarities[bet_match_i])"
   ]
  },
  {
   "cell_type": "code",
   "execution_count": 4,
   "metadata": {
    "ExecuteTime": {
     "end_time": "2020-04-09T15:27:33.380288Z",
     "start_time": "2020-04-09T15:27:33.374304Z"
    }
   },
   "outputs": [
    {
     "data": {
      "text/plain": [
       "9"
      ]
     },
     "execution_count": 4,
     "metadata": {},
     "output_type": "execute_result"
    }
   ],
   "source": [
    "a = range(10)\n",
    "for x in a:\n",
    "    pass \n",
    "a[9]"
   ]
  },
  {
   "cell_type": "code",
   "execution_count": 68,
   "metadata": {
    "ExecuteTime": {
     "end_time": "2020-04-08T14:01:18.347653Z",
     "start_time": "2020-04-08T14:01:18.177677Z"
    },
    "scrolled": false
   },
   "outputs": [
    {
     "data": {
      "text/html": [
       "<div>\n",
       "<style scoped>\n",
       "    .dataframe tbody tr th:only-of-type {\n",
       "        vertical-align: middle;\n",
       "    }\n",
       "\n",
       "    .dataframe tbody tr th {\n",
       "        vertical-align: top;\n",
       "    }\n",
       "\n",
       "    .dataframe thead th {\n",
       "        text-align: right;\n",
       "    }\n",
       "</style>\n",
       "<table border=\"1\" class=\"dataframe\">\n",
       "  <thead>\n",
       "    <tr style=\"text-align: right;\">\n",
       "      <th></th>\n",
       "      <th>denomination</th>\n",
       "      <th>sentence</th>\n",
       "      <th>paragraph</th>\n",
       "      <th>score</th>\n",
       "    </tr>\n",
       "  </thead>\n",
       "  <tbody>\n",
       "    <tr>\n",
       "      <th>14578</th>\n",
       "      <td>Carrefour</td>\n",
       "      <td>● le label Marine Stewardship Council (MSC) pour la pêche responsable, qui garantit non-pratique de la surpêche et le respect de l’environnement marin ;</td>\n",
       "      <td>● le label Marine Stewardship Council (MSC) pour la pêche responsable, qui garantit non-pratique de la surpêche et le respect de l’environnement marin ;</td>\n",
       "      <td>0.833059</td>\n",
       "    </tr>\n",
       "    <tr>\n",
       "      <th>14931</th>\n",
       "      <td>Carrefour</td>\n",
       "      <td>Moderniser la flotte pour la rendre plus propre et silencieuse Carrefour modernise sa flotte de véhicules.</td>\n",
       "      <td>Moderniser la flotte pour la rendre plus propre et silencieuse Carrefour modernise sa flotte de véhicules. Plus de 200 camions roulent désormais au biométhane carburant, moins polluants et moins bruyants. La flotte Carrefour compte plus de 200 camions certifiés selon la norme PIEK Carrefour et permettent aux magasins d’être certifiés Certibruit, moins de 60 dB. Fin 2018, une vingtaine de magasins de Carrefour France situés dans les zones urbaines denses sont labellisés Certibruit®. Par ailleurs, le Groupe s’engage et lutte contre livraisons de nuit. Avec ses partenaires du Cercle des transporteurs, Carrefour France a développé une flotte de véhicules roulant au biométhane. Les bénéfices immédiats du biométhane par rapport à un camion de même capacité diesel Euro 6 sont la diminution de 75 % des émissions de CO2, la suppression des émissions de particules fines et</td>\n",
       "      <td>0.758144</td>\n",
       "    </tr>\n",
       "    <tr>\n",
       "      <th>4271</th>\n",
       "      <td>Eiffage</td>\n",
       "      <td>Eiffage met en œuvre en 2018 et 2019 des dispositifs biogènes et à biodiversité positive en milieu marin dans le cadre des travaux d’agran- dissement de Port-Haliguen (Morbihan), expérimentation soutenue par l’Agence française pour la biodiversité (AFB) dans le cadre du PIA 2 biodiversité.</td>\n",
       "      <td>Eiffage met en œuvre en 2018 et 2019 des dispositifs biogènes et à biodiversité positive en milieu marin dans le cadre des travaux d’agran- dissement de Port-Haliguen (Morbihan), expérimentation soutenue par l’Agence française pour la biodiversité (AFB) dans le cadre du PIA 2 biodiversité. Investi dans ce domaine depuis 2013 via des partenariats avec des ingénieries innovantes (Seaboost, Créocéan, etc.), Eiffage cible d’autres marchés pour ces actions de génie écologique marin, à l’image de l’éolien offshore.</td>\n",
       "      <td>0.745571</td>\n",
       "    </tr>\n",
       "    <tr>\n",
       "      <th>2955</th>\n",
       "      <td>Bouygues</td>\n",
       "      <td>sur la biodiversité dans les infrastructures (lutte contre les espèces invasives, mesures compensatoires, accueil de la biodiversité marine, etc.) et la biodiversité urbaine (toitures végétalisées, démarche en développement</td>\n",
       "      <td>sur la biodiversité dans les infrastructures (lutte contre les espèces invasives, mesures compensatoires, accueil de la biodiversité marine, etc.) et la biodiversité urbaine (toitures végétalisées, démarche en développement</td>\n",
       "      <td>0.695943</td>\n",
       "    </tr>\n",
       "    <tr>\n",
       "      <th>14928</th>\n",
       "      <td>Carrefour</td>\n",
       "      <td>● moderniser la flotte pour la rendre plus propre et silencieuse ;</td>\n",
       "      <td>● moderniser la flotte pour la rendre plus propre et silencieuse ;</td>\n",
       "      <td>0.693497</td>\n",
       "    </tr>\n",
       "    <tr>\n",
       "      <th>910</th>\n",
       "      <td>Michelin</td>\n",
       "      <td>dans différents environnements, avec l’approfondissement des études toxicologiques et éco toxicologiques sur le vieillissement à long terme des TRWP ainsi que leur éventuelle toxicité en milieu marin.</td>\n",
       "      <td>dans différents environnements, avec l’approfondissement des études toxicologiques et éco toxicologiques sur le vieillissement à long terme des TRWP ainsi que leur éventuelle toxicité en milieu marin.</td>\n",
       "      <td>0.649099</td>\n",
       "    </tr>\n",
       "    <tr>\n",
       "      <th>4272</th>\n",
       "      <td>Eiffage</td>\n",
       "      <td>Investi dans ce domaine depuis 2013 via des partenariats avec des ingénieries innovantes (Seaboost, Créocéan, etc.), Eiffage cible d’autres marchés pour ces actions de génie écologique marin, à l’image de l’éolien offshore.</td>\n",
       "      <td>Eiffage met en œuvre en 2018 et 2019 des dispositifs biogènes et à biodiversité positive en milieu marin dans le cadre des travaux d’agran- dissement de Port-Haliguen (Morbihan), expérimentation soutenue par l’Agence française pour la biodiversité (AFB) dans le cadre du PIA 2 biodiversité. Investi dans ce domaine depuis 2013 via des partenariats avec des ingénieries innovantes (Seaboost, Créocéan, etc.), Eiffage cible d’autres marchés pour ces actions de génie écologique marin, à l’image de l’éolien offshore.</td>\n",
       "      <td>0.641751</td>\n",
       "    </tr>\n",
       "    <tr>\n",
       "      <th>16197</th>\n",
       "      <td>Carrefour</td>\n",
       "      <td>● liées aux transports aval rail (cas de la France notamment) et maritime.</td>\n",
       "      <td>● liées aux transports aval rail (cas de la France notamment) et maritime. Enfin, il est à noter que les trajets retours « magasins/entrepôts » sont pris en compte uniquement dans le cas de flottes prêtées à l’usage exclusif de Carrefour. Concernant le KPI Logistique (émissions de CO2 par unité de transport), dans la grande majorité des cas, les émissions de CO2 liées aux transports des marchandises sont calculées sur la base des distances parcourues du fait de l’absence de données réelles sur les consommations de carburant des prestataires et des consommations moyennes par type de camions. Les pays dont la logistique est principalement assurée par les fournisseurs sont exclus du périmètre de reporting. Les palettes (backhauling, reverse) ne sont pas comptabilisées dans le nombre de palettes prises en compte pour le transport aval. Concernant correspond à la quantité achetée et non à la quantité réellement consommée pour le fioul et le gaz (15 % de l’énergie consommée par les magasins). Concernant le KPI Eau, la quantité d’eau publiée correspond principalement à la quantité d’eau achetée. Suivant les pays, l’eau prélevée par forage par certains magasins peut ne pas être comptabilisée lorsque ces prélèvements sont gratuits. De plus, il existe des cas de surévaluation non significative de consommation marchande, coûts annexes à ceux liés à la consommation d’eau non dissociables). KPI Fluides réfrigérants : les éventuelles fuites ayant eu lieu avant un changement d’équipements ne sont pas quantifiées dans le reporting. Elles correspondent aux émissions générées entre la dernière opération de maintenance et l’installation. L’impact est peu significatif à l’échelle du Groupe du fait d’un suivi régulier des installations et de l’étalement de leurs remplacements. Il est à noter que les bilans matière ne sont pas systématiquement réalisés à chaque rechargement de fluide ou en fin d’année. Certains BUs achètent et stockent des fluides en avance et peuvent reporter certaines quantités de fluides encore stockées en bouteille dans la consommation de l’année N. À titre exceptionnel, les données 2017 des émissions de CO2 liées à la réfrigération et la quantité de fluides réfrigérants rechargés suite à des fuites des hypermarchés en France ont été extrapolées sur la base des taux de fuite moyens de la période de reporting pour 20 % des hypermarchés. KPI Déchets : le périmètre de reporting retenu comprend les BUs bénéficiant d’entreprises de collecte de déchets qui fournissent l’information quant au tonnage de déchets évacués. En règle générale, lorsque la collecte est réalisée directement par les collectivités locales, aucune information n’est disponible. De plus, lorsque les déchets sont collectés et regroupés sur les entrepôts, les quantités correspondantes ne sont pas systématiquement intégrées au reporting. Compte tenu des limites méthodologiques énoncées ci-dessus et des difficultés de collecte, le périmètre de reporting peut varier selon les indicateurs. Pour chaque indicateur communiqué sur un périmètre restreint, ce dernier est précisé. Pour analyser les évolutions, sont retirées toutes les BUs pour lesquelles il manque les données d’une des années de comparaison.</td>\n",
       "      <td>0.637752</td>\n",
       "    </tr>\n",
       "    <tr>\n",
       "      <th>13833</th>\n",
       "      <td>Auchen Holding</td>\n",
       "      <td>Proposer des produits ne nuisant pas à la biodiversité Soucieux de préserver les ressources marines, Auchan Retail est engagé depuis 10 ans pour éviter la surpêche et protéger l’environnement.</td>\n",
       "      <td>En 2018, l’équipe a travaillé plus particulièrement sur le périmètre des filières responsables Auchan avec la mise au point par espèce, d’un socle d’exigences minimum, obligatoire pour toute nouvelle filière. Les filières existantes sont auditées sur cette base. En outre, des audits spécifiques pour la partie transport des animaux et fin de vie en abattoir ont été mis au point afin de couvrir d’approvisionnement. En 2019, un partage des avancées françaises sera effectué avec l’ensemble des autres pays afin de capitaliser sur les bonnes pratiques et réfléchir à leur duplicabilité. Proposer des produits ne nuisant pas à la biodiversité Soucieux de préserver les ressources marines, Auchan Retail est engagé depuis 10 ans pour éviter la surpêche et protéger l’environnement. 2006 : les bases d’une politique de pêche responsable ont été établies en France. 2007 : Auchan Retail a arrêté la commercialisation du thon rouge de Méditerranée (Thunnus Thynnus) dans tous les pays concernés du pourtour méditerranéen. Il semblerait que, fort de cet effort partagé par d’autres acteurs, une recrudescence des thons rouges sur cette zone a pu être constatée. Aujourd’hui, les spécialistes s’accordent sur l’effet positif de ces mesures, au point que la commercialisation a pu reprendre. Auchan Retail reste néanmoins attentif à l’évolution des populations dans cette zone sensible. 2009 : une nouvelle position a été prise pour participer à la préservation des espèces de requin menacées de disparition l’arrêt de via roussettes (scyliorhinus) et des émissoles (mustellus). Dans tous les pays, Auchan Retail marque par ailleurs sa volonté que soit interdite la pêche de requins pour l’utilisation unique des ailerons. 2013 : Auchan Retail supprime de ses étals les espèces dites « de grands fonds », afin de préserver leurs ressources rares. De plus, Auchan Retail privilégie les bonnes pratiques de pêche et une gestion efficace des ressources permettant la durabilité des peuplements thoniers pour ses produits à marque propre. Une traçabilité complète de ses produits à base de thon (zone de pêche, espèce, méthode de capture et flotte de pêche) est exigée et tout approvisionnement en produits IUU (1) est refusé. Pour ce faire, les achats sont orientés vers une diversification des méthodes de pêche. 60 % de l’Albacore est ainsi pêché en FAD free (2) à moins que celui-ci soit non maillant. La pêche de thons juvéniles est également interdite (poids minimum dans les cahiers des charges fixés pour chaque espèce). Par ailleurs : la fabrication de produits premiers prix élaborés à partir P d’Albacore (3) a été suspendue ;</td>\n",
       "      <td>0.636391</td>\n",
       "    </tr>\n",
       "    <tr>\n",
       "      <th>2976</th>\n",
       "      <td>Bouygues</td>\n",
       "      <td>posidonies et 141 grandes nacres ont été transplantés dans des lieux protégés (principalement la réserve marine protégée du Larvotto) et où l’infrastructure maritime est éco-conçue à travers la création d’aménagements écologiques sur les caissons, les enrochements et les émissaires, et la création de récifs artiﬁ ciels.</td>\n",
       "      <td>posidonies et 141 grandes nacres ont été transplantés dans des lieux protégés (principalement la réserve marine protégée du Larvotto) et où l’infrastructure maritime est éco-conçue à travers la création d’aménagements écologiques sur les caissons, les enrochements et les émissaires, et la création de récifs artiﬁ ciels. Les principes d’aménagement écologique reposent sur l’amélioration du potentiel de colonisation par la faune et la ﬂ ore, le développement de fonctionnalités écologiques perdues et le développement des fonctions d’habitat et de corridors écologiques.</td>\n",
       "      <td>0.631103</td>\n",
       "    </tr>\n",
       "  </tbody>\n",
       "</table>\n",
       "</div>"
      ],
      "text/plain": [
       "         denomination  \\\n",
       "14578  Carrefour        \n",
       "14931  Carrefour        \n",
       "4271   Eiffage          \n",
       "2955   Bouygues         \n",
       "14928  Carrefour        \n",
       "910    Michelin         \n",
       "4272   Eiffage          \n",
       "16197  Carrefour        \n",
       "13833  Auchen Holding   \n",
       "2976   Bouygues         \n",
       "\n",
       "                                                                                                                                                                                                                                                                                                                                sentence  \\\n",
       "14578  ● le label Marine Stewardship Council (MSC) pour la pêche responsable, qui garantit non-pratique de la surpêche et le respect de l’environnement marin ;                                                                                                                                                                            \n",
       "14931  Moderniser la flotte pour la rendre plus propre et silencieuse Carrefour modernise sa flotte de véhicules.                                                                                                                                                                                                                          \n",
       "4271   Eiffage met en œuvre en 2018 et 2019 des dispositifs biogènes et à biodiversité positive en milieu marin dans le cadre des travaux d’agran- dissement de Port-Haliguen (Morbihan), expérimentation soutenue par l’Agence française pour la biodiversité (AFB) dans le cadre du PIA 2 biodiversité.                                  \n",
       "2955   sur la biodiversité dans les infrastructures (lutte contre les espèces invasives, mesures compensatoires, accueil de la biodiversité marine, etc.) et la biodiversité urbaine (toitures végétalisées, démarche en développement                                                                                                     \n",
       "14928  ● moderniser la flotte pour la rendre plus propre et silencieuse ;                                                                                                                                                                                                                                                                  \n",
       "910    dans différents environnements, avec l’approfondissement des études toxicologiques et éco toxicologiques sur le vieillissement à long terme des TRWP ainsi que leur éventuelle toxicité en milieu marin.                                                                                                                            \n",
       "4272   Investi dans ce domaine depuis 2013 via des partenariats avec des ingénieries innovantes (Seaboost, Créocéan, etc.), Eiffage cible d’autres marchés pour ces actions de génie écologique marin, à l’image de l’éolien offshore.                                                                                                     \n",
       "16197  ● liées aux transports aval rail (cas de la France notamment) et maritime.                                                                                                                                                                                                                                                          \n",
       "13833  Proposer des produits ne nuisant pas à la biodiversité Soucieux de préserver les ressources marines, Auchan Retail est engagé depuis 10 ans pour éviter la surpêche et protéger l’environnement.                                                                                                                                    \n",
       "2976   posidonies et 141 grandes nacres ont été transplantés dans des lieux protégés (principalement la réserve marine protégée du Larvotto) et où l’infrastructure maritime est éco-conçue à travers la création d’aménagements écologiques sur les caissons, les enrochements et les émissaires, et la création de récifs artiﬁ ciels.   \n",
       "\n",
       "                                                                                                                                                                                                                                                                                                                                                                                                                                                                                                                                                                                                                                                                                                                                                                                                                                                                                                                                                                                                                                                                                                                                                                                                                                                                                                                                                                                                                                                                                                                                                                                                                                                                                                                                                                                                                                                                                                                                                                                                                                                                                                                                                                                                                                                                                                                                                                                                                                                                                                                                                                                                                                                                                                                                                                                                                                                                                                                                                                                                                                                                                                                                                                                                                                                                                                                                             paragraph  \\\n",
       "14578  ● le label Marine Stewardship Council (MSC) pour la pêche responsable, qui garantit non-pratique de la surpêche et le respect de l’environnement marin ;                                                                                                                                                                                                                                                                                                                                                                                                                                                                                                                                                                                                                                                                                                                                                                                                                                                                                                                                                                                                                                                                                                                                                                                                                                                                                                                                                                                                                                                                                                                                                                                                                                                                                                                                                                                                                                                                                                                                                                                                                                                                                                                                                                                                                                                                                                                                                                                                                                                                                                                                                                                                                                                                                                                                                                                                                                                                                                                                                                                                                                                                                                                                                                                          \n",
       "14931  Moderniser la flotte pour la rendre plus propre et silencieuse Carrefour modernise sa flotte de véhicules. Plus de 200 camions roulent désormais au biométhane carburant, moins polluants et moins bruyants. La flotte Carrefour compte plus de 200 camions certifiés selon la norme PIEK Carrefour et permettent aux magasins d’être certifiés Certibruit, moins de 60 dB. Fin 2018, une vingtaine de magasins de Carrefour France situés dans les zones urbaines denses sont labellisés Certibruit®. Par ailleurs, le Groupe s’engage et lutte contre livraisons de nuit. Avec ses partenaires du Cercle des transporteurs, Carrefour France a développé une flotte de véhicules roulant au biométhane. Les bénéfices immédiats du biométhane par rapport à un camion de même capacité diesel Euro 6 sont la diminution de 75 % des émissions de CO2, la suppression des émissions de particules fines et                                                                                                                                                                                                                                                                                                                                                                                                                                                                                                                                                                                                                                                                                                                                                                                                                                                                                                                                                                                                                                                                                                                                                                                                                                                                                                                                                                                                                                                                                                                                                                                                                                                                                                                                                                                                                                                                                                                                                                                                                                                                                                                                                                                                                                                                                                                                                                                                                                       \n",
       "4271   Eiffage met en œuvre en 2018 et 2019 des dispositifs biogènes et à biodiversité positive en milieu marin dans le cadre des travaux d’agran- dissement de Port-Haliguen (Morbihan), expérimentation soutenue par l’Agence française pour la biodiversité (AFB) dans le cadre du PIA 2 biodiversité. Investi dans ce domaine depuis 2013 via des partenariats avec des ingénieries innovantes (Seaboost, Créocéan, etc.), Eiffage cible d’autres marchés pour ces actions de génie écologique marin, à l’image de l’éolien offshore.                                                                                                                                                                                                                                                                                                                                                                                                                                                                                                                                                                                                                                                                                                                                                                                                                                                                                                                                                                                                                                                                                                                                                                                                                                                                                                                                                                                                                                                                                                                                                                                                                                                                                                                                                                                                                                                                                                                                                                                                                                                                                                                                                                                                                                                                                                                                                                                                                                                                                                                                                                                                                                                                                                                                                                                                                \n",
       "2955   sur la biodiversité dans les infrastructures (lutte contre les espèces invasives, mesures compensatoires, accueil de la biodiversité marine, etc.) et la biodiversité urbaine (toitures végétalisées, démarche en développement                                                                                                                                                                                                                                                                                                                                                                                                                                                                                                                                                                                                                                                                                                                                                                                                                                                                                                                                                                                                                                                                                                                                                                                                                                                                                                                                                                                                                                                                                                                                                                                                                                                                                                                                                                                                                                                                                                                                                                                                                                                                                                                                                                                                                                                                                                                                                                                                                                                                                                                                                                                                                                                                                                                                                                                                                                                                                                                                                                                                                                                                                                                   \n",
       "14928  ● moderniser la flotte pour la rendre plus propre et silencieuse ;                                                                                                                                                                                                                                                                                                                                                                                                                                                                                                                                                                                                                                                                                                                                                                                                                                                                                                                                                                                                                                                                                                                                                                                                                                                                                                                                                                                                                                                                                                                                                                                                                                                                                                                                                                                                                                                                                                                                                                                                                                                                                                                                                                                                                                                                                                                                                                                                                                                                                                                                                                                                                                                                                                                                                                                                                                                                                                                                                                                                                                                                                                                                                                                                                                                                                \n",
       "910    dans différents environnements, avec l’approfondissement des études toxicologiques et éco toxicologiques sur le vieillissement à long terme des TRWP ainsi que leur éventuelle toxicité en milieu marin.                                                                                                                                                                                                                                                                                                                                                                                                                                                                                                                                                                                                                                                                                                                                                                                                                                                                                                                                                                                                                                                                                                                                                                                                                                                                                                                                                                                                                                                                                                                                                                                                                                                                                                                                                                                                                                                                                                                                                                                                                                                                                                                                                                                                                                                                                                                                                                                                                                                                                                                                                                                                                                                                                                                                                                                                                                                                                                                                                                                                                                                                                                                                          \n",
       "4272   Eiffage met en œuvre en 2018 et 2019 des dispositifs biogènes et à biodiversité positive en milieu marin dans le cadre des travaux d’agran- dissement de Port-Haliguen (Morbihan), expérimentation soutenue par l’Agence française pour la biodiversité (AFB) dans le cadre du PIA 2 biodiversité. Investi dans ce domaine depuis 2013 via des partenariats avec des ingénieries innovantes (Seaboost, Créocéan, etc.), Eiffage cible d’autres marchés pour ces actions de génie écologique marin, à l’image de l’éolien offshore.                                                                                                                                                                                                                                                                                                                                                                                                                                                                                                                                                                                                                                                                                                                                                                                                                                                                                                                                                                                                                                                                                                                                                                                                                                                                                                                                                                                                                                                                                                                                                                                                                                                                                                                                                                                                                                                                                                                                                                                                                                                                                                                                                                                                                                                                                                                                                                                                                                                                                                                                                                                                                                                                                                                                                                                                                \n",
       "16197  ● liées aux transports aval rail (cas de la France notamment) et maritime. Enfin, il est à noter que les trajets retours « magasins/entrepôts » sont pris en compte uniquement dans le cas de flottes prêtées à l’usage exclusif de Carrefour. Concernant le KPI Logistique (émissions de CO2 par unité de transport), dans la grande majorité des cas, les émissions de CO2 liées aux transports des marchandises sont calculées sur la base des distances parcourues du fait de l’absence de données réelles sur les consommations de carburant des prestataires et des consommations moyennes par type de camions. Les pays dont la logistique est principalement assurée par les fournisseurs sont exclus du périmètre de reporting. Les palettes (backhauling, reverse) ne sont pas comptabilisées dans le nombre de palettes prises en compte pour le transport aval. Concernant correspond à la quantité achetée et non à la quantité réellement consommée pour le fioul et le gaz (15 % de l’énergie consommée par les magasins). Concernant le KPI Eau, la quantité d’eau publiée correspond principalement à la quantité d’eau achetée. Suivant les pays, l’eau prélevée par forage par certains magasins peut ne pas être comptabilisée lorsque ces prélèvements sont gratuits. De plus, il existe des cas de surévaluation non significative de consommation marchande, coûts annexes à ceux liés à la consommation d’eau non dissociables). KPI Fluides réfrigérants : les éventuelles fuites ayant eu lieu avant un changement d’équipements ne sont pas quantifiées dans le reporting. Elles correspondent aux émissions générées entre la dernière opération de maintenance et l’installation. L’impact est peu significatif à l’échelle du Groupe du fait d’un suivi régulier des installations et de l’étalement de leurs remplacements. Il est à noter que les bilans matière ne sont pas systématiquement réalisés à chaque rechargement de fluide ou en fin d’année. Certains BUs achètent et stockent des fluides en avance et peuvent reporter certaines quantités de fluides encore stockées en bouteille dans la consommation de l’année N. À titre exceptionnel, les données 2017 des émissions de CO2 liées à la réfrigération et la quantité de fluides réfrigérants rechargés suite à des fuites des hypermarchés en France ont été extrapolées sur la base des taux de fuite moyens de la période de reporting pour 20 % des hypermarchés. KPI Déchets : le périmètre de reporting retenu comprend les BUs bénéficiant d’entreprises de collecte de déchets qui fournissent l’information quant au tonnage de déchets évacués. En règle générale, lorsque la collecte est réalisée directement par les collectivités locales, aucune information n’est disponible. De plus, lorsque les déchets sont collectés et regroupés sur les entrepôts, les quantités correspondantes ne sont pas systématiquement intégrées au reporting. Compte tenu des limites méthodologiques énoncées ci-dessus et des difficultés de collecte, le périmètre de reporting peut varier selon les indicateurs. Pour chaque indicateur communiqué sur un périmètre restreint, ce dernier est précisé. Pour analyser les évolutions, sont retirées toutes les BUs pour lesquelles il manque les données d’une des années de comparaison.   \n",
       "13833  En 2018, l’équipe a travaillé plus particulièrement sur le périmètre des filières responsables Auchan avec la mise au point par espèce, d’un socle d’exigences minimum, obligatoire pour toute nouvelle filière. Les filières existantes sont auditées sur cette base. En outre, des audits spécifiques pour la partie transport des animaux et fin de vie en abattoir ont été mis au point afin de couvrir d’approvisionnement. En 2019, un partage des avancées françaises sera effectué avec l’ensemble des autres pays afin de capitaliser sur les bonnes pratiques et réfléchir à leur duplicabilité. Proposer des produits ne nuisant pas à la biodiversité Soucieux de préserver les ressources marines, Auchan Retail est engagé depuis 10 ans pour éviter la surpêche et protéger l’environnement. 2006 : les bases d’une politique de pêche responsable ont été établies en France. 2007 : Auchan Retail a arrêté la commercialisation du thon rouge de Méditerranée (Thunnus Thynnus) dans tous les pays concernés du pourtour méditerranéen. Il semblerait que, fort de cet effort partagé par d’autres acteurs, une recrudescence des thons rouges sur cette zone a pu être constatée. Aujourd’hui, les spécialistes s’accordent sur l’effet positif de ces mesures, au point que la commercialisation a pu reprendre. Auchan Retail reste néanmoins attentif à l’évolution des populations dans cette zone sensible. 2009 : une nouvelle position a été prise pour participer à la préservation des espèces de requin menacées de disparition l’arrêt de via roussettes (scyliorhinus) et des émissoles (mustellus). Dans tous les pays, Auchan Retail marque par ailleurs sa volonté que soit interdite la pêche de requins pour l’utilisation unique des ailerons. 2013 : Auchan Retail supprime de ses étals les espèces dites « de grands fonds », afin de préserver leurs ressources rares. De plus, Auchan Retail privilégie les bonnes pratiques de pêche et une gestion efficace des ressources permettant la durabilité des peuplements thoniers pour ses produits à marque propre. Une traçabilité complète de ses produits à base de thon (zone de pêche, espèce, méthode de capture et flotte de pêche) est exigée et tout approvisionnement en produits IUU (1) est refusé. Pour ce faire, les achats sont orientés vers une diversification des méthodes de pêche. 60 % de l’Albacore est ainsi pêché en FAD free (2) à moins que celui-ci soit non maillant. La pêche de thons juvéniles est également interdite (poids minimum dans les cahiers des charges fixés pour chaque espèce). Par ailleurs : la fabrication de produits premiers prix élaborés à partir P d’Albacore (3) a été suspendue ;                                                                                                                                                                                                                                                                                                                                                                                                                                                                                                                                                                                                                 \n",
       "2976   posidonies et 141 grandes nacres ont été transplantés dans des lieux protégés (principalement la réserve marine protégée du Larvotto) et où l’infrastructure maritime est éco-conçue à travers la création d’aménagements écologiques sur les caissons, les enrochements et les émissaires, et la création de récifs artiﬁ ciels. Les principes d’aménagement écologique reposent sur l’amélioration du potentiel de colonisation par la faune et la ﬂ ore, le développement de fonctionnalités écologiques perdues et le développement des fonctions d’habitat et de corridors écologiques.                                                                                                                                                                                                                                                                                                                                                                                                                                                                                                                                                                                                                                                                                                                                                                                                                                                                                                                                                                                                                                                                                                                                                                                                                                                                                                                                                                                                                                                                                                                                                                                                                                                                                                                                                                                                                                                                                                                                                                                                                                                                                                                                                                                                                                                                                                                                                                                                                                                                                                                                                                                                                                                                                                                                                      \n",
       "\n",
       "          score  \n",
       "14578  0.833059  \n",
       "14931  0.758144  \n",
       "4271   0.745571  \n",
       "2955   0.695943  \n",
       "14928  0.693497  \n",
       "910    0.649099  \n",
       "4272   0.641751  \n",
       "16197  0.637752  \n",
       "13833  0.636391  \n",
       "2976   0.631103  "
      ]
     },
     "execution_count": 68,
     "metadata": {},
     "output_type": "execute_result"
    }
   ],
   "source": [
    "best_df = df.loc[best_matches]\n",
    "best_df[\"score\"] = similarities[best_matches]\n",
    "best_df[[\"denomination\", \"sentence\", \"paragraph\", \"score\"]]"
   ]
  },
  {
   "cell_type": "code",
   "execution_count": null,
   "metadata": {},
   "outputs": [],
   "source": []
  },
  {
   "cell_type": "code",
   "execution_count": 25,
   "metadata": {},
   "outputs": [
    {
     "data": {
      "text/html": [
       "<div>\n",
       "<style scoped>\n",
       "    .dataframe tbody tr th:only-of-type {\n",
       "        vertical-align: middle;\n",
       "    }\n",
       "\n",
       "    .dataframe tbody tr th {\n",
       "        vertical-align: top;\n",
       "    }\n",
       "\n",
       "    .dataframe thead th {\n",
       "        text-align: right;\n",
       "    }\n",
       "</style>\n",
       "<table border=\"1\" class=\"dataframe\">\n",
       "  <thead>\n",
       "    <tr style=\"text-align: right;\">\n",
       "      <th></th>\n",
       "      <th>a</th>\n",
       "      <th>b</th>\n",
       "    </tr>\n",
       "  </thead>\n",
       "  <tbody>\n",
       "    <tr>\n",
       "      <th>0</th>\n",
       "      <td>0.170427</td>\n",
       "      <td>0.124358</td>\n",
       "    </tr>\n",
       "    <tr>\n",
       "      <th>1</th>\n",
       "      <td>0.896786</td>\n",
       "      <td>0.833318</td>\n",
       "    </tr>\n",
       "    <tr>\n",
       "      <th>2</th>\n",
       "      <td>0.527401</td>\n",
       "      <td>0.199450</td>\n",
       "    </tr>\n",
       "    <tr>\n",
       "      <th>3</th>\n",
       "      <td>0.457856</td>\n",
       "      <td>0.310238</td>\n",
       "    </tr>\n",
       "    <tr>\n",
       "      <th>4</th>\n",
       "      <td>0.611666</td>\n",
       "      <td>0.450338</td>\n",
       "    </tr>\n",
       "    <tr>\n",
       "      <th>5</th>\n",
       "      <td>0.411934</td>\n",
       "      <td>0.949880</td>\n",
       "    </tr>\n",
       "    <tr>\n",
       "      <th>6</th>\n",
       "      <td>0.505307</td>\n",
       "      <td>0.804151</td>\n",
       "    </tr>\n",
       "    <tr>\n",
       "      <th>7</th>\n",
       "      <td>0.753039</td>\n",
       "      <td>0.444557</td>\n",
       "    </tr>\n",
       "    <tr>\n",
       "      <th>8</th>\n",
       "      <td>0.528715</td>\n",
       "      <td>0.311537</td>\n",
       "    </tr>\n",
       "    <tr>\n",
       "      <th>9</th>\n",
       "      <td>0.012104</td>\n",
       "      <td>0.803657</td>\n",
       "    </tr>\n",
       "  </tbody>\n",
       "</table>\n",
       "</div>"
      ],
      "text/plain": [
       "          a         b\n",
       "0  0.170427  0.124358\n",
       "1  0.896786  0.833318\n",
       "2  0.527401  0.199450\n",
       "3  0.457856  0.310238\n",
       "4  0.611666  0.450338\n",
       "5  0.411934  0.949880\n",
       "6  0.505307  0.804151\n",
       "7  0.753039  0.444557\n",
       "8  0.528715  0.311537\n",
       "9  0.012104  0.803657"
      ]
     },
     "execution_count": 25,
     "metadata": {},
     "output_type": "execute_result"
    }
   ],
   "source": [
    "import pandas as pd\n",
    "import numpy as np\n",
    "df = pd.DataFrame(np.random.random((10,2)), columns = [\"a\",\"b\"])\n",
    "df"
   ]
  },
  {
   "cell_type": "code",
   "execution_count": 28,
   "metadata": {
    "scrolled": false
   },
   "outputs": [
    {
     "data": {
      "text/html": [
       "<div>\n",
       "<style scoped>\n",
       "    .dataframe tbody tr th:only-of-type {\n",
       "        vertical-align: middle;\n",
       "    }\n",
       "\n",
       "    .dataframe tbody tr th {\n",
       "        vertical-align: top;\n",
       "    }\n",
       "\n",
       "    .dataframe thead th {\n",
       "        text-align: right;\n",
       "    }\n",
       "</style>\n",
       "<table border=\"1\" class=\"dataframe\">\n",
       "  <thead>\n",
       "    <tr style=\"text-align: right;\">\n",
       "      <th></th>\n",
       "      <th>a</th>\n",
       "      <th>b</th>\n",
       "      <th>c</th>\n",
       "      <th>d</th>\n",
       "    </tr>\n",
       "  </thead>\n",
       "  <tbody>\n",
       "    <tr>\n",
       "      <th>0</th>\n",
       "      <td>0.170427</td>\n",
       "      <td>0.124358</td>\n",
       "      <td>0.170427</td>\n",
       "      <td>0.170427</td>\n",
       "    </tr>\n",
       "    <tr>\n",
       "      <th>1</th>\n",
       "      <td>0.896786</td>\n",
       "      <td>0.833318</td>\n",
       "      <td>0.896786</td>\n",
       "      <td>0.896786</td>\n",
       "    </tr>\n",
       "    <tr>\n",
       "      <th>2</th>\n",
       "      <td>0.527401</td>\n",
       "      <td>0.199450</td>\n",
       "      <td>0.527401</td>\n",
       "      <td>0.527401</td>\n",
       "    </tr>\n",
       "    <tr>\n",
       "      <th>3</th>\n",
       "      <td>0.457856</td>\n",
       "      <td>0.310238</td>\n",
       "      <td>0.457856</td>\n",
       "      <td>0.457856</td>\n",
       "    </tr>\n",
       "    <tr>\n",
       "      <th>4</th>\n",
       "      <td>0.611666</td>\n",
       "      <td>0.450338</td>\n",
       "      <td>0.611666</td>\n",
       "      <td>0.611666</td>\n",
       "    </tr>\n",
       "    <tr>\n",
       "      <th>5</th>\n",
       "      <td>0.411934</td>\n",
       "      <td>0.949880</td>\n",
       "      <td>0.411934</td>\n",
       "      <td>0.411934</td>\n",
       "    </tr>\n",
       "    <tr>\n",
       "      <th>6</th>\n",
       "      <td>0.505307</td>\n",
       "      <td>0.804151</td>\n",
       "      <td>0.505307</td>\n",
       "      <td>0.505307</td>\n",
       "    </tr>\n",
       "    <tr>\n",
       "      <th>7</th>\n",
       "      <td>0.753039</td>\n",
       "      <td>0.444557</td>\n",
       "      <td>0.753039</td>\n",
       "      <td>0.753039</td>\n",
       "    </tr>\n",
       "    <tr>\n",
       "      <th>8</th>\n",
       "      <td>0.528715</td>\n",
       "      <td>0.311537</td>\n",
       "      <td>0.528715</td>\n",
       "      <td>0.528715</td>\n",
       "    </tr>\n",
       "    <tr>\n",
       "      <th>9</th>\n",
       "      <td>0.012104</td>\n",
       "      <td>0.803657</td>\n",
       "      <td>0.012104</td>\n",
       "      <td>0.012104</td>\n",
       "    </tr>\n",
       "  </tbody>\n",
       "</table>\n",
       "</div>"
      ],
      "text/plain": [
       "          a         b         c         d\n",
       "0  0.170427  0.124358  0.170427  0.170427\n",
       "1  0.896786  0.833318  0.896786  0.896786\n",
       "2  0.527401  0.199450  0.527401  0.527401\n",
       "3  0.457856  0.310238  0.457856  0.457856\n",
       "4  0.611666  0.450338  0.611666  0.611666\n",
       "5  0.411934  0.949880  0.411934  0.411934\n",
       "6  0.505307  0.804151  0.505307  0.505307\n",
       "7  0.753039  0.444557  0.753039  0.753039\n",
       "8  0.528715  0.311537  0.528715  0.528715\n",
       "9  0.012104  0.803657  0.012104  0.012104"
      ]
     },
     "execution_count": 28,
     "metadata": {},
     "output_type": "execute_result"
    }
   ],
   "source": [
    "def goget(row):\n",
    "    a = row[\"a\"]\n",
    "    return a,a\n",
    "df[[\"c\",\"d\"]] = df[[\"a\"]].apply(goget,axis=1, result_type=\"expand\")\n",
    "df"
   ]
  },
  {
   "cell_type": "code",
   "execution_count": null,
   "metadata": {},
   "outputs": [],
   "source": []
  }
 ],
 "metadata": {
  "kernelspec": {
   "display_name": "Python 3",
   "language": "python",
   "name": "python3"
  },
  "language_info": {
   "codemirror_mode": {
    "name": "ipython",
    "version": 3
   },
   "file_extension": ".py",
   "mimetype": "text/x-python",
   "name": "python",
   "nbconvert_exporter": "python",
   "pygments_lexer": "ipython3",
   "version": "3.6.8"
  }
 },
 "nbformat": 4,
 "nbformat_minor": 2
}
